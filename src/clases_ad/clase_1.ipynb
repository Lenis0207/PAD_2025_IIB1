{
 "cells": [
  {
   "cell_type": "code",
   "execution_count": 11,
   "id": "47f5e2cd",
   "metadata": {},
   "outputs": [],
   "source": [
    "# Clase 1 — Programación Orientada a Objetos (POO) — Guía Detallada\n",
    "# **Curso:** Analítica de Datos (PREICA2502B010096)\n",
    "# **Docente:** Andres Felipe Callejas Jaramillo\n",
    "# **Fecha de preparación:** 2025-08-14 00:30\"\n",
    "\n",
    "# **bjetivo: Comprender paso a paso conceptos clave (atributos, tipos, funciones, parámetros, clases, inicializadores, herencia, abstracción, polimorfismo e importaciones) con **explicaciones detalladas** y **ejemplos comentados**"
   ]
  }
 ],
 "metadata": {
  "kernelspec": {
   "display_name": "Python 3",
   "language": "python",
   "name": "python3"
  },
  "language_info": {
   "codemirror_mode": {
    "name": "ipython",
    "version": 3
   },
   "file_extension": ".py",
   "mimetype": "text/x-python",
   "name": "python",
   "nbconvert_exporter": "python",
   "pygments_lexer": "ipython3",
   "version": "3.12.1"
  }
 },
 "nbformat": 4,
 "nbformat_minor": 5
}
