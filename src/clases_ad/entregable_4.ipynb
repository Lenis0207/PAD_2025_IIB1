{
 "cells": [
  {
   "cell_type": "markdown",
   "id": "ee3988a5",
   "metadata": {},
   "source": [
    "# F10 - Proyecto integradorF10 - Proyecto integrador"
   ]
  },
  {
   "cell_type": "markdown",
   "id": "82330e55",
   "metadata": {},
   "source": [
    "Desarrolla tu evidencia de aprendizaje mediante un Jupyter Notebook. Asegúrate de incluir explicaciones detalladas en las celdas Markdown en las que describas el funcionamiento de tu código y el razonamiento detrás de cada paso."
   ]
  },
  {
   "cell_type": "code",
   "execution_count": 21,
   "id": "90868fd2",
   "metadata": {},
   "outputs": [
    {
     "name": "stdout",
     "output_type": "stream",
     "text": [
      "Index(['Observation ID', 'Common Name', 'Scientific Name', 'Family', 'Genus',\n",
      "       'Observed Length (m)', 'Observed Weight (kg)', 'Age Class', 'Sex',\n",
      "       'Date of Observation', 'Country/Region', 'Habitat Type',\n",
      "       'Conservation Status', 'Observer Name', 'Notes'],\n",
      "      dtype='object')\n"
     ]
    }
   ],
   "source": [
    "import pandas as pd\n",
    "\n",
    "df = pd.read_csv(\"/workspaces/PAD_2025_IIB1/src/static/csv/crocodile_dataset.csv\")\n",
    "\n",
    "print(df.columns)"
   ]
  },
  {
   "cell_type": "markdown",
   "id": "d67b27db",
   "metadata": {},
   "source": [
    "## Crear conjuntos en Python"
   ]
  },
  {
   "cell_type": "code",
   "execution_count": 22,
   "id": "1e5be9c3",
   "metadata": {},
   "outputs": [
    {
     "name": "stdout",
     "output_type": "stream",
     "text": [
      "{'Malaysia', 'Indonesia'}\n",
      "{'India', 'Pakistan', 'Sri Lanka'}\n",
      "{'Papua New Guinea', 'Indonesia'}\n",
      "{'Australia', 'Iran', 'India', 'Pakistan', 'Malaysia', 'Indonesia', 'Sri Lanka', 'Philippines', 'Nepal'}\n",
      "{'Australia', 'Iran', 'India', 'Pakistan', 'Malaysia', 'Indonesia', 'Papua New Guinea', 'Sri Lanka', 'Philippines', 'Nepal'}\n",
      "{'Indonesia'}\n",
      "{'Malaysia', 'Indonesia'}\n",
      "{'India'}\n",
      "{'Papua New Guinea', 'Indonesia'}\n",
      "{'Indonesia'}\n"
     ]
    }
   ],
   "source": [
    "import pandas as pd\n",
    "\n",
    "file_path = (\"/workspaces/PAD_2025_IIB1/src/static/csv/crocodile_dataset.csv\")\n",
    "df = pd.read_csv(file_path)\n",
    "\n",
    "group_a = set(df[df[\"Common Name\"] == \"Borneo Crocodile\"][\"Country/Region\"])\n",
    "group_b = set(df[df[\"Common Name\"] == \"Mugger Crocodile\"][\"Country/Region\"])\n",
    "group_c = set(df[df[\"Common Name\"] == \"New Guinea Crocodile\"][\"Country/Region\"])\n",
    "group_d = set(df[df[\"Common Name\"] == \"Saltwater Crocodile\"][\"Country/Region\"])\n",
    "\n",
    "group_a = {'Indonesia', 'Malaysia'}\n",
    "group_b = {'India', 'Pakistan', 'Sri Lanka'}\n",
    "group_c = {'Indonesia', 'Papua New Guinea'}\n",
    "group_d = {'Australia', 'India', 'Indonesia', 'Iran', 'Malaysia', 'Nepal', 'Pakistan', 'Philippines', 'Sri Lanka'}\n",
    "\n",
    "print(group_a)\n",
    "print(group_b)\n",
    "print(group_c)\n",
    "print(group_d) \n",
    "\n",
    "all_country = group_a.union(group_b).union(group_c).union(group_d)\n",
    "all_country = {'Australia', 'India', 'Indonesia', 'Iran', 'Malaysia', 'Nepal', 'Pakistan', 'Papua New Guinea', 'Philippines', 'Sri Lanka'}\n",
    "\n",
    "print((all_country))    \n",
    "\n",
    "a_and_c = group_a.intersection(group_c)\n",
    "a_and_c = {'Indonesia'}\n",
    "\n",
    "print(a_and_c)\n",
    "\n",
    "a_and_d = group_a.intersection(group_d)\n",
    "a_and_d = {'Indonesia', 'Malaysia'}\n",
    "\n",
    "print(a_and_d)\n",
    "\n",
    "b_and_d = group_b.intersection(group_d)\n",
    "b_and_d = {'India'}\n",
    "\n",
    "print(b_and_d)\n",
    "\n",
    "c_and_d = group_c.intersection(group_d)\n",
    "c_and_d = {'Indonesia', 'Papua New Guinea'}\n",
    "\n",
    "print(c_and_d)\n",
    "\n",
    "common_a_c_d = (group_a).intersection(group_c).intersection(group_d)\n",
    "common_a_c_d = {'Indonesia'}\n",
    "\n",
    "print(common_a_c_d)"
   ]
  },
  {
   "cell_type": "markdown",
   "id": "1d1cf78c",
   "metadata": {},
   "source": [
    "## Uso de sets en Python"
   ]
  },
  {
   "cell_type": "code",
   "execution_count": 23,
   "id": "a187705a",
   "metadata": {},
   "outputs": [
    {
     "name": "stdout",
     "output_type": "stream",
     "text": [
      "Australia en grupo: D\n",
      "Iran en grupo: D\n",
      "India en grupos: B-D\n",
      "Pakistan en grupos: B-D\n",
      "Malaysia en grupos: A-D\n",
      "Papua New Guinea en grupo: C\n",
      "Indonesia en grupos: A-C-D\n",
      "Nepal en grupo: D\n",
      "Sri Lanka en grupos: B-D\n",
      "Philippines en grupo: D\n"
     ]
    }
   ],
   "source": [
    "group_a\n",
    "{'Indonesia', 'Malaysia'}\n",
    "group_b\n",
    "{'India', 'Pakistan', 'Sri Lanka'}\n",
    "group_c\n",
    "{'Indonesia', 'Papua New Guinea'}\n",
    "group_d\n",
    "{'Australia', 'India', 'Indonesia', 'Iran', 'Malaysia', 'Nepal', 'Pakistan', 'Philippines', 'Sri Lanka'}\n",
    "all_country = group_a.union(group_b).union(group_c).union(group_d)\n",
    "all_country\n",
    "{'Australia', 'India', 'Indonesia', 'Iran', 'Malaysia', 'Nepal', 'Pakistan', 'Papua New Guinea', 'Philippines', 'Sri Lanka'}\n",
    "for country in all_country:\n",
    "    groups_in = []\n",
    "    for letter, group in zip('ABCD', [group_a, group_b, group_c, group_d]):\n",
    "        if country in group:\n",
    "            groups_in.append(letter)\n",
    "    groups_str = '-'.join(groups_in)\n",
    "    plural = 's' if len(groups_in) > 1 else ''\n",
    "    print(f'{country} en grupo{plural}: {groups_str}')"
   ]
  },
  {
   "cell_type": "markdown",
   "id": "7dd784d8",
   "metadata": {},
   "source": [
    "## Métodos disponibles para conjuntos en Python"
   ]
  },
  {
   "cell_type": "code",
   "execution_count": 24,
   "id": "515c709e",
   "metadata": {},
   "outputs": [
    {
     "data": {
      "text/plain": [
       "['__and__',\n",
       " '__class__',\n",
       " '__contains__',\n",
       " '__delattr__',\n",
       " '__dir__',\n",
       " '__doc__',\n",
       " '__eq__',\n",
       " '__format__',\n",
       " '__ge__',\n",
       " '__getattribute__',\n",
       " '__gt__',\n",
       " '__hash__',\n",
       " '__iand__',\n",
       " '__init__',\n",
       " '__init_subclass__',\n",
       " '__ior__',\n",
       " '__isub__',\n",
       " '__iter__',\n",
       " '__ixor__',\n",
       " '__le__',\n",
       " '__len__',\n",
       " '__lt__',\n",
       " '__ne__',\n",
       " '__new__',\n",
       " '__or__',\n",
       " '__rand__',\n",
       " '__reduce__',\n",
       " '__reduce_ex__',\n",
       " '__repr__',\n",
       " '__ror__',\n",
       " '__rsub__',\n",
       " '__rxor__',\n",
       " '__setattr__',\n",
       " '__sizeof__',\n",
       " '__str__',\n",
       " '__sub__',\n",
       " '__subclasshook__',\n",
       " '__xor__',\n",
       " 'add',\n",
       " 'clear',\n",
       " 'copy',\n",
       " 'difference',\n",
       " 'difference_update',\n",
       " 'discard',\n",
       " 'intersection',\n",
       " 'intersection_update',\n",
       " 'isdisjoint',\n",
       " 'issubset',\n",
       " 'issuperset',\n",
       " 'pop',\n",
       " 'remove',\n",
       " 'symmetric_difference',\n",
       " 'symmetric_difference_update',\n",
       " 'union',\n",
       " 'update']"
      ]
     },
     "execution_count": 24,
     "metadata": {},
     "output_type": "execute_result"
    }
   ],
   "source": [
    "dir(set)\n",
    "['__and__', '__class__', '__contains__', '__delattr__', '__dir__', '__doc__', '__eq__',\n",
    "'__format__', '__ge__', '__getattribute__', '__gt__', '__hash__', '__iand__', '__init__',\n",
    "'__init_subclass__', '__ior__', '__isub__', '__iter__', '__ixor__', '__le__', '__len__',\n",
    "'__lt__', '__ne__', '__new__', '__or__', '__rand__', '__reduce__', '__reduce_ex__',\n",
    "'__repr__', '__ror__', '__rsub__', '__rxor__', '__setattr__', '__sizeof__', '__str__',\n",
    "'__sub__', '__subclasshook__', '__xor__',\n",
    "'add', 'clear', 'copy', 'difference', 'difference_update', 'discard', 'intersection',\n",
    "'intersection_update', 'isdisjoint', 'issubset', 'issuperset', 'pop', 'remove',\n",
    "'symmetric_difference', 'symmetric_difference_update', 'union', 'update']"
   ]
  },
  {
   "cell_type": "markdown",
   "id": "e10aeaae",
   "metadata": {},
   "source": [
    "## Algebra de conjuntos en Python"
   ]
  },
  {
   "cell_type": "code",
   "execution_count": 25,
   "id": "71d2e76d",
   "metadata": {},
   "outputs": [
    {
     "name": "stdout",
     "output_type": "stream",
     "text": [
      "{'Australia', 'Iran', 'India', 'Pakistan', 'Malaysia', 'Papua New Guinea', 'Indonesia', 'Nepal', 'Sri Lanka', 'Philippines'}\n",
      "{'Papua New Guinea'}\n",
      "{'Indonesia'}\n",
      "False\n",
      "True\n",
      "False\n",
      "True\n",
      "True\n",
      "True\n",
      "False\n",
      "True\n",
      "{'Australia', 'Iran', 'India', 'Pakistan', 'Malaysia', 'Papua New Guinea', 'Sri Lanka', 'Philippines', 'Nepal'}\n"
     ]
    }
   ],
   "source": [
    "group_c.union(group_d)\n",
    "group_c.difference(group_d)\n",
    "group_c.intersection(group_d)\n",
    "\n",
    "print(group_c.union(group_d))\n",
    "print(group_c.difference(group_d))\n",
    "print(group_c.intersection(group_d))\n",
    "\n",
    "group_c.isdisjoint(group_d)\n",
    "False\n",
    "print(group_c.isdisjoint(group_d))\n",
    "group_c.isdisjoint({'1,2,3'})\n",
    "True\n",
    "print(group_c.isdisjoint({'1,2,3'}))\n",
    "group_c.issubset(group_d)\n",
    "False\n",
    "print(group_c.issubset(group_d))\n",
    "group_c.issubset({'Indonesia', 'Papua New Guinea', 'Australia', 'India', 'Iran', 'Malaysia', 'Nepal', 'Pakistan', 'Philippines', 'Sri Lanka'})\n",
    "False\n",
    "print(group_c.issubset({'Indonesia', 'Papua New Guinea', 'Australia', 'India', 'Iran', 'Malaysia', 'Nepal', 'Pakistan', 'Philippines', 'Sri Lanka'}))   \n",
    "group_c.issubset(group_c)\n",
    "True\n",
    "print(group_c.issubset(group_c))\n",
    "group_c.issuperset(group_c)\n",
    "True\n",
    "print(group_c.issuperset(group_c))\n",
    "group_c.issuperset(group_d)\n",
    "False\n",
    "print(group_c.issuperset(group_d))\n",
    "group_c.issuperset({'Indonesia'})\n",
    "True\n",
    "print(group_c.issuperset({'Indonesia'}))\n",
    "group_c.symmetric_difference(group_d)\n",
    "{'Australia', 'India', 'Iran', 'Malaysia', 'Nepal', 'Pakistan', 'Philippines', 'Sri Lanka', 'Papua New Guinea'}\n",
    "print(group_c.symmetric_difference(group_d))"
   ]
  },
  {
   "cell_type": "markdown",
   "id": "10bfdd3d",
   "metadata": {},
   "source": [
    "## Operaciones con conjuntos"
   ]
  },
  {
   "cell_type": "code",
   "execution_count": 26,
   "id": "b7b38d9a",
   "metadata": {},
   "outputs": [
    {
     "name": "stdout",
     "output_type": "stream",
     "text": [
      "3\n",
      "{'India', 'Pakistan', 'Bangladesh', 'Sri Lanka'}\n",
      "{'Pakistan', 'Bangladesh', 'Sri Lanka'}\n",
      "Pakistan\n",
      "Error: 'India'\n",
      "{'Bangladesh', 'Sri Lanka'}\n",
      "Error: unsupported operand type(s) for +: 'set' and 'set'\n",
      "{'Bangladesh', 'Sri Lanka'}\n",
      "{'Australia', 'Iran', 'India', 'Pakistan', 'Malaysia', 'Indonesia', 'Sri Lanka', 'Philippines', 'Nepal'}\n",
      "{'Bangladesh', 'Sri Lanka'} {'Australia', 'Iran', 'India', 'Pakistan', 'Malaysia', 'Indonesia', 'Sri Lanka', 'Philippines', 'Nepal'}\n"
     ]
    }
   ],
   "source": [
    "group_b = {'India', 'Pakistan', 'Sri Lanka'}\n",
    "group_d = {'Australia', 'India', 'Indonesia', 'Iran', 'Malaysia', 'Nepal', 'Pakistan', 'Philippines', 'Sri Lanka'}\n",
    "\n",
    "print(len(group_b))\n",
    "\n",
    "group_b.add('Bangladesh')\n",
    "print(group_b)\n",
    "\n",
    "group_b.remove('India')\n",
    "print(group_b)\n",
    "\n",
    "print(group_b.pop())  \n",
    "\n",
    "try:\n",
    "    group_b.remove('India')\n",
    "except KeyError as e:\n",
    "    print(\"Error:\", e)\n",
    "\n",
    "group_b.discard('India')\n",
    "print(group_b)\n",
    "\n",
    "try:\n",
    "    print(group_b + group_d)\n",
    "except TypeError as e:\n",
    "    print(\"Error:\", e)\n",
    "\n",
    "print(group_b or group_d)\n",
    "\n",
    "print(group_b and group_d)\n",
    "\n",
    "print(group_b, group_d)"
   ]
  },
  {
   "cell_type": "markdown",
   "id": "85bc51f8",
   "metadata": {},
   "source": [
    "## Frozenset en Python"
   ]
  },
  {
   "cell_type": "code",
   "execution_count": 27,
   "id": "cbeb749a",
   "metadata": {},
   "outputs": [
    {
     "name": "stdout",
     "output_type": "stream",
     "text": [
      "frozenset({0, 1, 2, 3, 4})\n",
      "Error: 'frozenset' object has no attribute 'add'\n",
      "frozenset({1, 'hola', 3j, 45})\n",
      "['__and__', '__class__', '__class_getitem__', '__contains__', '__delattr__', '__dir__', '__doc__', '__eq__', '__format__', '__ge__', '__getattribute__', '__getstate__', '__gt__', '__hash__', '__init__', '__init_subclass__', '__iter__', '__le__', '__len__', '__lt__', '__ne__', '__new__', '__or__', '__rand__', '__reduce__', '__reduce_ex__', '__repr__', '__ror__', '__rsub__', '__rxor__', '__setattr__', '__sizeof__', '__str__', '__sub__', '__subclasshook__', '__xor__', 'copy', 'difference', 'intersection', 'isdisjoint', 'issubset', 'issuperset', 'symmetric_difference', 'union']\n"
     ]
    }
   ],
   "source": [
    "fs = frozenset(range(5))\n",
    "print(fs)\n",
    "\n",
    "try:\n",
    "    fs.add(9)\n",
    "except AttributeError as e:\n",
    "    print(\"Error:\", e)\n",
    "\n",
    "otro_fs = frozenset([1, 45, 3j, 'hola'])\n",
    "print(otro_fs)\n",
    "\n",
    "print(dir(frozenset))"
   ]
  },
  {
   "cell_type": "code",
   "execution_count": 28,
   "id": "c14d9a37",
   "metadata": {},
   "outputs": [
    {
     "name": "stdout",
     "output_type": "stream",
     "text": [
      "frozenset({0, 1, 2, 3, 4})\n",
      "Error: 'frozenset' object has no attribute 'add'\n",
      "True\n",
      "frozenset({1, 'hola', 3j, 45})\n",
      "['__and__', '__class__', '__contains__', '__eq__', '__ge__', '__gt__', '__hash__', '__iter__', '__le__', '__len__', '__lt__', '__ne__', '__or__', '__reduce__', '__reduce_ex__', '__repr__', '__sizeof__', '__str__', '__sub__', '__xor__', 'copy', 'difference', 'intersection', 'isdisjoint', 'issubset', 'issuperset', 'symmetric_difference', 'union']\n"
     ]
    }
   ],
   "source": [
    "fs1 = frozenset({0, 1, 2, 3, 4})\n",
    "print(fs1)\n",
    "\n",
    "try:\n",
    "\tfs1.add(9)\n",
    "except AttributeError as e:\n",
    "\tprint(\"Error:\", e)\n",
    "\n",
    "print(isinstance(fs1, frozenset))\n",
    "\n",
    "fs2 = frozenset({'hola', 1, 3j, 45})\n",
    "print(fs2)\n",
    "\n",
    "print([method for method in dir(frozenset) if not method.startswith('__') or method == '__contains__' or method == '__class__' or method == '__str__' or method == '__repr__' or method == '__hash__' or method == '__eq__' or method == '__ne__' or method == '__iter__' or method == '__len__' or method == '__sub__' or method == '__and__' or method == '__or__' or method == '__xor__' or method == '__le__' or method == '__lt__' or method == '__ge__' or method == '__gt__' or method == '__contains__' or method == '__copy__' or method == '__deepcopy__' or method == '__reduce__' or method == '__reduce_ex__' or method == '__sizeof__'])"
   ]
  }
 ],
 "metadata": {
  "kernelspec": {
   "display_name": "Python 3",
   "language": "python",
   "name": "python3"
  },
  "language_info": {
   "codemirror_mode": {
    "name": "ipython",
    "version": 3
   },
   "file_extension": ".py",
   "mimetype": "text/x-python",
   "name": "python",
   "nbconvert_exporter": "python",
   "pygments_lexer": "ipython3",
   "version": "3.12.1"
  }
 },
 "nbformat": 4,
 "nbformat_minor": 5
}
