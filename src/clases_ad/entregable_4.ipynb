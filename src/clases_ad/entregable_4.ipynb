{
 "cells": [
  {
   "cell_type": "markdown",
   "id": "ee3988a5",
   "metadata": {},
   "source": [
    "# F10 - Proyecto integradorF10 - Proyecto integrador"
   ]
  },
  {
   "cell_type": "markdown",
   "id": "82330e55",
   "metadata": {},
   "source": [
    "Desarrolla tu evidencia de aprendizaje mediante un Jupyter Notebook. Asegúrate de incluir explicaciones detalladas en las celdas Markdown en las que describas el funcionamiento de tu código y el razonamiento detrás de cada paso."
   ]
  },
  {
   "cell_type": "code",
   "execution_count": 29,
   "id": "90868fd2",
   "metadata": {},
   "outputs": [
    {
     "name": "stdout",
     "output_type": "stream",
     "text": [
      "Index(['Observation ID', 'Common Name', 'Scientific Name', 'Family', 'Genus',\n",
      "       'Observed Length (m)', 'Observed Weight (kg)', 'Age Class', 'Sex',\n",
      "       'Date of Observation', 'Country/Region', 'Habitat Type',\n",
      "       'Conservation Status', 'Observer Name', 'Notes'],\n",
      "      dtype='object')\n"
     ]
    }
   ],
   "source": [
    "import pandas as pd\n",
    "\n",
    "df = pd.read_csv(\"/workspaces/PAD_2025_IIB1/src/static/csv/crocodile_dataset.csv\")\n",
    "\n",
    "print(df.columns)"
   ]
  },
  {
   "cell_type": "markdown",
   "id": "d67b27db",
   "metadata": {},
   "source": [
    "## Crear conjuntos en Python"
   ]
  },
  {
   "cell_type": "code",
   "execution_count": 30,
   "id": "1e5be9c3",
   "metadata": {},
   "outputs": [
    {
     "data": {
      "text/plain": [
       "{'Indonesia'}"
      ]
     },
     "execution_count": 30,
     "metadata": {},
     "output_type": "execute_result"
    }
   ],
   "source": [
    "import pandas as pd\n",
    "\n",
    "# Cargar el archivo CSV\n",
    "file_path = (\"/workspaces/PAD_2025_IIB1/src/static/csv/crocodile_dataset.csv\")\n",
    "df = pd.read_csv(file_path)\n",
    "\n",
    "# Definir cuatro conjuntos de especies observadas en diferentes países\n",
    "group_a = set(df[df[\"Common Name\"] == \"Borneo Crocodile\"][\"Country/Region\"])\n",
    "group_b = set(df[df[\"Common Name\"] == \"Mugger Crocodile\"][\"Country/Region\"])\n",
    "group_c = set(df[df[\"Common Name\"] == \"New Guinea Crocodile\"][\"Country/Region\"])\n",
    "group_d = set(df[df[\"Common Name\"] == \"Saltwater Crocodile\"][\"Country/Region\"])\n",
    "\n",
    "group_a\n",
    "{'Indonesia', 'Malaysia'}\n",
    "\n",
    "group_b\n",
    "{'India', 'Pakistan', 'Sri Lanka'}\n",
    "\n",
    "group_c\n",
    "{'Indonesia', 'Papua New Guinea'}\n",
    "\n",
    "group_d\n",
    "{'Australia', 'India', 'Indonesia', 'Iran', 'Malaysia', 'Nepal', 'Pakistan', 'Philippines', 'Sri Lanka'}    \n",
    "\n",
    "# Unión de todos los conjuntos\n",
    "all_country = group_a.union(group_b).union(group_c).union(group_d)\n",
    "all_country\n",
    "{'Australia', 'India', 'Indonesia', 'Iran', 'Malaysia', 'Nepal', 'Pakistan', 'Papua New Guinea', 'Philippines', 'Sri Lanka'}        \n",
    "\n",
    "# Intersecciones por pares\n",
    "a_and_c = group_a.intersection(group_c)\n",
    "a_and_c\n",
    "{'Indonesia'}\n",
    "\n",
    "a_and_d = group_a.intersection(group_d)\n",
    "a_and_d\n",
    "{'Indonesia', 'Malaysia'}   \n",
    "\n",
    "b_and_d = group_b.intersection(group_d)\n",
    "b_and_d\n",
    "{'India'}\n",
    "\n",
    "c_and_d = group_c.intersection(group_d)\n",
    "c_and_d\n",
    "{'Indonesia', 'Papua New Guinea'}\n",
    "\n",
    "# Intersección de tres conjuntos\n",
    "common_a_c_d = (group_a).intersection(group_c).intersection(group_d)\n",
    "common_a_c_d\n",
    "{'Indonesia'}\n"
   ]
  },
  {
   "cell_type": "markdown",
   "id": "1d1cf78c",
   "metadata": {},
   "source": [
    "## Uso de sets en Python"
   ]
  },
  {
   "cell_type": "code",
   "execution_count": 31,
   "id": "a187705a",
   "metadata": {},
   "outputs": [
    {
     "name": "stdout",
     "output_type": "stream",
     "text": [
      "Indonesia (Papua) en grupo: C\n",
      "Philippines en grupo: D\n",
      "Malaysia en grupo: D\n",
      "Australia en grupo: D\n",
      "Indonesia en grupo: D\n",
      "Papua New Guinea en grupos: C-D\n",
      "India en grupo: D\n"
     ]
    }
   ],
   "source": [
    "group_a\n",
    "{'Indonesia', 'Malaysia'}\n",
    "group_b\n",
    "{'India', 'Pakistan', 'Sri Lanka'}\n",
    "group_c\n",
    "{'Indonesia', 'Papua New Guinea'}\n",
    "group_d\n",
    "{'Australia', 'India', 'Indonesia', 'Iran', 'Malaysia', 'Nepal', 'Pakistan', 'Philippines', 'Sri Lanka'}\n",
    "all_country = group_a.union(group_b).union(group_c).union(group_d)\n",
    "all_country\n",
    "{'Australia', 'India', 'Indonesia', 'Iran', 'Malaysia', 'Nepal', 'Pakistan', 'Papua New Guinea', 'Philippines', 'Sri Lanka'}\n",
    "for country in all_country:\n",
    "    groups_in = []\n",
    "    for letter, group in zip('ABCD', [group_a, group_b, group_c, group_d]):\n",
    "        if country in group:\n",
    "            groups_in.append(letter)\n",
    "    groups_str = '-'.join(groups_in)\n",
    "    plural = 's' if len(groups_in) > 1 else ''\n",
    "    print(f'{country} en grupo{plural}: {groups_str}')"
   ]
  },
  {
   "cell_type": "markdown",
   "id": "7dd784d8",
   "metadata": {},
   "source": [
    "## Métodos disponibles para conjuntos en Python"
   ]
  },
  {
   "cell_type": "code",
   "execution_count": 32,
   "id": "515c709e",
   "metadata": {},
   "outputs": [
    {
     "data": {
      "text/plain": [
       "['__and__',\n",
       " '__class__',\n",
       " '__contains__',\n",
       " '__delattr__',\n",
       " '__dir__',\n",
       " '__doc__',\n",
       " '__eq__',\n",
       " '__format__',\n",
       " '__ge__',\n",
       " '__getattribute__',\n",
       " '__gt__',\n",
       " '__hash__',\n",
       " '__iand__',\n",
       " '__init__',\n",
       " '__init_subclass__',\n",
       " '__ior__',\n",
       " '__isub__',\n",
       " '__iter__',\n",
       " '__ixor__',\n",
       " '__le__',\n",
       " '__len__',\n",
       " '__lt__',\n",
       " '__ne__',\n",
       " '__new__',\n",
       " '__or__',\n",
       " '__rand__',\n",
       " '__reduce__',\n",
       " '__reduce_ex__',\n",
       " '__repr__',\n",
       " '__ror__',\n",
       " '__rsub__',\n",
       " '__rxor__',\n",
       " '__setattr__',\n",
       " '__sizeof__',\n",
       " '__str__',\n",
       " '__sub__',\n",
       " '__subclasshook__',\n",
       " '__xor__',\n",
       " 'add',\n",
       " 'clear',\n",
       " 'copy',\n",
       " 'difference',\n",
       " 'difference_update',\n",
       " 'discard',\n",
       " 'intersection',\n",
       " 'intersection_update',\n",
       " 'isdisjoint',\n",
       " 'issubset',\n",
       " 'issuperset',\n",
       " 'pop',\n",
       " 'remove',\n",
       " 'symmetric_difference',\n",
       " 'symmetric_difference_update',\n",
       " 'union',\n",
       " 'update']"
      ]
     },
     "execution_count": 32,
     "metadata": {},
     "output_type": "execute_result"
    }
   ],
   "source": [
    "dir(set)\n",
    "['__and__', '__class__', '__contains__', '__delattr__', '__dir__', '__doc__', '__eq__',\n",
    "'__format__', '__ge__', '__getattribute__', '__gt__', '__hash__', '__iand__', '__init__',\n",
    "'__init_subclass__', '__ior__', '__isub__', '__iter__', '__ixor__', '__le__', '__len__',\n",
    "'__lt__', '__ne__', '__new__', '__or__', '__rand__', '__reduce__', '__reduce_ex__',\n",
    "'__repr__', '__ror__', '__rsub__', '__rxor__', '__setattr__', '__sizeof__', '__str__',\n",
    "'__sub__', '__subclasshook__', '__xor__',\n",
    "'add', 'clear', 'copy', 'difference', 'difference_update', 'discard', 'intersection',\n",
    "'intersection_update', 'isdisjoint', 'issubset', 'issuperset', 'pop', 'remove',\n",
    "'symmetric_difference', 'symmetric_difference_update', 'union', 'update']"
   ]
  },
  {
   "cell_type": "markdown",
   "id": "e10aeaae",
   "metadata": {},
   "source": [
    "## Algebra de conjuntos en Python"
   ]
  },
  {
   "cell_type": "code",
   "execution_count": 33,
   "id": "71d2e76d",
   "metadata": {},
   "outputs": [
    {
     "data": {
      "text/plain": [
       "{'Australia', 'Iran', 'Malaysia', 'Nepal'}"
      ]
     },
     "execution_count": 33,
     "metadata": {},
     "output_type": "execute_result"
    }
   ],
   "source": [
    "group_a.union(group_d)\n",
    "{'Australia', 'Indonesia', 'Iran', 'Malaysia', 'Nepal'}\n",
    "group_a.difference(group_d)\n",
    "{'Malaysia'}\n",
    "group_a.intersection(group_d)\n",
    "{'Indonesia'}\n",
    "\n",
    "group_a.isdisjoint(group_d)\n",
    "False\n",
    "group_a.isdisjoint({'1,2,3'})\n",
    "True\n",
    "group_a.issubset(group_d)\n",
    "False\n",
    "group_a.issubset({'Indonesia', 'Malaysia'})\n",
    "False\n",
    "group_a.issubset(group_a)\n",
    "True\n",
    "group_a.issuperset(group_a)\n",
    "True\n",
    "group_a.issuperset(group_d)\n",
    "False\n",
    "group_a.issuperset({'Indonesia ', 'Malaysia'})\n",
    "True\n",
    "group_a.symmetric_difference(group_d)\n",
    "{'Australia', 'Iran', 'Malaysia', 'Nepal'}"
   ]
  },
  {
   "cell_type": "markdown",
   "id": "10bfdd3d",
   "metadata": {},
   "source": [
    "## Operaciones con conjuntos"
   ]
  },
  {
   "cell_type": "code",
   "execution_count": null,
   "id": "b7b38d9a",
   "metadata": {},
   "outputs": [
    {
     "name": "stdout",
     "output_type": "stream",
     "text": [
      "0\n",
      "{'Thailand'}\n"
     ]
    },
    {
     "ename": "KeyError",
     "evalue": "'Indonesia'",
     "output_type": "error",
     "traceback": [
      "\u001b[31m---------------------------------------------------------------------------\u001b[39m",
      "\u001b[31mKeyError\u001b[39m                                  Traceback (most recent call last)",
      "\u001b[36mCell\u001b[39m\u001b[36m \u001b[39m\u001b[32mIn[34]\u001b[39m\u001b[32m, line 12\u001b[39m\n\u001b[32m      8\u001b[39m \u001b[38;5;28mprint\u001b[39m(group_a)\n\u001b[32m      9\u001b[39m \u001b[38;5;66;03m# → {'Indonesia', 'Malaysia', 'Thailand'}\u001b[39;00m\n\u001b[32m     10\u001b[39m \n\u001b[32m     11\u001b[39m \u001b[38;5;66;03m# Eliminar un país existente\u001b[39;00m\n\u001b[32m---> \u001b[39m\u001b[32m12\u001b[39m \u001b[43mgroup_a\u001b[49m\u001b[43m.\u001b[49m\u001b[43mremove\u001b[49m\u001b[43m(\u001b[49m\u001b[33;43m'\u001b[39;49m\u001b[33;43mIndonesia\u001b[39;49m\u001b[33;43m'\u001b[39;49m\u001b[43m)\u001b[49m\n\u001b[32m     13\u001b[39m \u001b[38;5;28mprint\u001b[39m(group_a)\n\u001b[32m     14\u001b[39m \u001b[38;5;66;03m# → {'Malaysia', 'Thailand'}\u001b[39;00m\n\u001b[32m     15\u001b[39m \n\u001b[32m     16\u001b[39m \u001b[38;5;66;03m# Eliminar uno cualquiera con pop()\u001b[39;00m\n",
      "\u001b[31mKeyError\u001b[39m: 'Indonesia'"
     ]
    }
   ],
   "source": [
    "len(group_a)\n",
    "\n",
    "\n",
    "# Agregar un nuevo país\n",
    "group_a.add('Thailand')\n",
    "print(group_a)\n",
    "# → {'Indonesia', 'Malaysia', 'Thailand'}\n",
    "\n",
    "# Eliminar un país existente\n",
    "group_a.remove('Indonesia')\n",
    "print(group_a)\n",
    "# → {'Malaysia', 'Thailand'}\n",
    "\n",
    "# Eliminar uno cualquiera con pop()\n",
    "print(group_a.pop())  # elimina un país aleatorio (por ejemplo 'Malaysia')\n",
    "print(group_a)        # queda {'Thailand'}\n",
    "\n",
    "# Intentar eliminar un país que ya no está\n",
    "try:\n",
    "    group_a.remove('Indonesia')\n",
    "except KeyError as e:\n",
    "    print(\"Error:\", e)\n",
    "# → Error: 'Indonesia'\n",
    "\n",
    "# Usar discard (no lanza error)\n",
    "group_a.discard('Indonesia')\n",
    "print(group_a)\n",
    "# → {'Thailand'}\n",
    "\n",
    "# Comparación entre conjuntos\n",
    "print(group_a > group_b)\n",
    "# → False (no es un superconjunto)\n",
    "\n",
    "# Intentar sumar conjuntos (da error)\n",
    "try:\n",
    "    print(group_a + group_b)\n",
    "except TypeError as e:\n",
    "    print(\"Error:\", e)\n",
    "# → TypeError: unsupported operand type(s) for +: 'set' and 'set'\n",
    "\n",
    "# Operadores lógicos\n",
    "print(group_a or group_b)\n",
    "# → {'Thailand'}  (devuelve el primer conjunto no vacío)\n",
    "\n",
    "print(group_a and group_b)\n",
    "# → {'India', 'Pakistan', 'Sri Lanka'} (devuelve el segundo si ambos son no vacíos)\n",
    "\n",
    "# Mostrar ambos conjuntos\n",
    "print(group_a, group_b)\n",
    "# → ({'Thailand'}, {'India', 'Pakistan', 'Sri Lanka'})"
   ]
  }
 ],
 "metadata": {
  "kernelspec": {
   "display_name": "Python 3",
   "language": "python",
   "name": "python3"
  },
  "language_info": {
   "codemirror_mode": {
    "name": "ipython",
    "version": 3
   },
   "file_extension": ".py",
   "mimetype": "text/x-python",
   "name": "python",
   "nbconvert_exporter": "python",
   "pygments_lexer": "ipython3",
   "version": "3.12.1"
  }
 },
 "nbformat": 4,
 "nbformat_minor": 5
}
