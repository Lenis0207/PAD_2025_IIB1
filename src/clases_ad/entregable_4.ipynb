{
 "cells": [
  {
   "cell_type": "markdown",
   "id": "ee3988a5",
   "metadata": {},
   "source": [
    "# F10 - Proyecto integradorF10 - Proyecto integrador"
   ]
  },
  {
   "cell_type": "markdown",
   "id": "82330e55",
   "metadata": {},
   "source": [
    "Desarrolla tu evidencia de aprendizaje mediante un Jupyter Notebook. Asegúrate de incluir explicaciones detalladas en las celdas Markdown en las que describas el funcionamiento de tu código y el razonamiento detrás de cada paso."
   ]
  },
  {
   "cell_type": "code",
   "execution_count": 1,
   "id": "90868fd2",
   "metadata": {},
   "outputs": [
    {
     "name": "stdout",
     "output_type": "stream",
     "text": [
      "Index(['Observation ID', 'Common Name', 'Scientific Name', 'Family', 'Genus',\n",
      "       'Observed Length (m)', 'Observed Weight (kg)', 'Age Class', 'Sex',\n",
      "       'Date of Observation', 'Country/Region', 'Habitat Type',\n",
      "       'Conservation Status', 'Observer Name', 'Notes'],\n",
      "      dtype='object')\n"
     ]
    }
   ],
   "source": [
    "import pandas as pd\n",
    "\n",
    "df = pd.read_csv(\"/workspaces/PAD_2025_IIB1/src/static/csv/crocodile_dataset.csv\")\n",
    "\n",
    "print(df.columns)"
   ]
  },
  {
   "cell_type": "code",
   "execution_count": 2,
   "id": "5026dc95",
   "metadata": {},
   "outputs": [],
   "source": [
    "def species_by_country(country):\n",
    "    return set(df[df[\"Country/Region\"] == country][\"Common Name\"])\n",
    "\n",
    "def compare_countries(country1, country2):\n",
    "    set1 = species_by_country(country1)\n",
    "    set2 = species_by_country(country2)\n",
    "\n",
    "    union = set1.union(set2)\n",
    "    intersection = set1.intersection(set2)\n",
    "    print(f\"Especies en {country1}: {set1}\")\n",
    "    print(f\"Especies en {country2}: {set2}\")\n",
    "    print(f\"\\nUnión ({country1} ∪ {country2}): {union}\")\n",
    "    print(f\"Intersección ({country1} ∩ {country2}): {intersection}\")\n",
    "\n",
    "    compare_countries(\"Mexico\", \"Venezuela\")"
   ]
  },
  {
   "cell_type": "code",
   "execution_count": 5,
   "id": "1e5be9c3",
   "metadata": {},
   "outputs": [
    {
     "name": "stdout",
     "output_type": "stream",
     "text": [
      "Países con Borneo Crocodile: set()\n",
      "Países con Mugger Crocodile: set()\n",
      "Países con New Guinea Crocodile: {'Indonesia (Papua)', 'Papua New Guinea'}\n",
      "Países con Saltwater Crocodile: {'Philippines', 'Malaysia', 'Australia', 'Indonesia', 'Papua New Guinea', 'India'}\n",
      "Unión de todos los países: {'Indonesia (Papua)', 'Philippines', 'Malaysia', 'Australia', 'Indonesia', 'Papua New Guinea', 'India'}\n",
      "Intersección de Borneo y New Guinea Crocodile: set()\n",
      "Intersección de Borneo y Saltwater Crocodile: set()\n",
      "Intersección de Mugger y Saltwater Crocodile: set()\n",
      "Intersección de New Guinea y Saltwater Crocodile: {'Papua New Guinea'}\n"
     ]
    }
   ],
   "source": [
    "import pandas as pd\n",
    "\n",
    "# Cargar el archivo CSV\n",
    "file_path = (\"/workspaces/PAD_2025_IIB1/src/static/csv/crocodile_dataset.csv\")\n",
    "df = pd.read_csv(file_path)\n",
    "\n",
    "# Definir tres conjuntos de especies observadas en diferentes países\n",
    "group_a = set(df[df[\"Common Name\"] == \"Borneo Crocodile\"][\"Country/Region\"])\n",
    "group_b = set(df[df[\"Common Name\"] == \"Mugger Crocodile\"][\"Country/Region\"])\n",
    "group_c = set(df[df[\"Common Name\"] == \"New Guinea Crocodile\"][\"Country/Region\"])\n",
    "group_d = set(df[df[\"Common Name\"] == \"Saltwater Crocodile\"][\"Country/Region\"])\n",
    "\n",
    "group_a\n",
    "{'Indonesia', 'Malaysia'}\n",
    "\n",
    "group_b\n",
    "{'India', 'Iran', 'Nepal', 'Pakistan', 'Sri Lanka'}\n",
    "\n",
    "group_c\n",
    "{'Indonesia', 'Papua New Guinea'}\n",
    "\n",
    "group_d\n",
    "{'Australia', 'India', 'Indonesia', 'Malaysia', 'Papua New Guinea', 'Philippines'}\n",
    "\n",
    "# Unión de todos los conjuntos\n",
    "all_country = group_a.union(group_b).union(group_c).union(group_d)\n",
    "all_country\n",
    "{'Australia', 'India', 'Indonesia', 'Iran', 'Malaysia', 'Nepal', 'Pakistan', 'Papua New Guinea', 'Philippines', 'Sri Lanka'}\n",
    "\n",
    "# Intersecciones por pares\n",
    "a_and_c = group_a.intersection(group_c)\n",
    "a_and_c\n",
    "set()\n",
    "\n",
    "a_and_d = group_a.intersection(group_d)\n",
    "a_and_d\n",
    "set()\n",
    "\n",
    "b_and_d = group_b.intersection(group_d)\n",
    "b_and_d\n",
    "set()\n",
    "\n",
    "c_and_d = group_c.intersection(group_d)\n",
    "c_and_d\n",
    "set()\n",
    "\n",
    "# Intersección de los tres\n",
    "common_all = group_a.intersection(group_b).intersection(group_c).intersection(group_d)\n",
    "common_all\n",
    "set()\n",
    "\n",
    "print(\"Países con Borneo Crocodile:\", group_a)\n",
    "print(\"Países con Mugger Crocodile:\", group_b)\n",
    "print(\"Países con New Guinea Crocodile:\", group_c)\n",
    "print(\"Países con Saltwater Crocodile:\", group_d)\n",
    "print(\"Unión de todos los países:\", all_country)\n",
    "print(\"Intersección de Borneo y New Guinea Crocodile:\", a_and_c)\n",
    "print(\"Intersección de Borneo y Saltwater Crocodile:\", a_and_d) \n",
    "print(\"Intersección de Mugger y Saltwater Crocodile:\", b_and_d)\n",
    "print(\"Intersección de New Guinea y Saltwater Crocodile:\", c_and_d)\n"
   ]
  }
 ],
 "metadata": {
  "kernelspec": {
   "display_name": "Python 3",
   "language": "python",
   "name": "python3"
  },
  "language_info": {
   "codemirror_mode": {
    "name": "ipython",
    "version": 3
   },
   "file_extension": ".py",
   "mimetype": "text/x-python",
   "name": "python",
   "nbconvert_exporter": "python",
   "pygments_lexer": "ipython3",
   "version": "3.12.1"
  }
 },
 "nbformat": 4,
 "nbformat_minor": 5
}
