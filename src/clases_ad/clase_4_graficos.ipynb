{
 "cells": [
  {
   "cell_type": "markdown",
   "metadata": {},
   "source": []
  },
  {
   "cell_type": "markdown",
   "id": "9745a5e6",
   "metadata": {},
   "source": [
    "### Graficos\n",
    "dataset 1 : https://www.kaggle.com/datasets/saidaantonyan/iris-classifier-with-knn?select=Iris.csv\n",
    "dataset 2 : https://www.kaggle.com/datasets/pabloa/wine-magazine?select=winemag-data_first150k.csv"
   ]
  },
  {
   "cell_type": "code",
   "execution_count": 2,
   "id": "79018a23",
   "metadata": {},
   "outputs": [],
   "source": [
    "import pandas as pd\n",
    "import numpy as np\n",
    "\n",
    "import matplotlib.pyplot as plt\n",
    "import seaborn as sns\n",
    "\n",
    "import warnings\n",
    "warnings.filterwarnings(\"ignore\")\n",
    "\n",
    "%matplotlib inline"
   ]
  }
 ],
 "metadata": {
  "kernelspec": {
   "display_name": "Python 3",
   "language": "python",
   "name": "python3"
  },
  "language_info": {
   "codemirror_mode": {
    "name": "ipython",
    "version": 3
   },
   "file_extension": ".py",
   "mimetype": "text/x-python",
   "name": "python",
   "nbconvert_exporter": "python",
   "pygments_lexer": "ipython3",
   "version": "3.12.1"
  }
 },
 "nbformat": 4,
 "nbformat_minor": 5
}
