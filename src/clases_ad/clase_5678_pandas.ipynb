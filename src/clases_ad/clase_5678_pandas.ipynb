{
 "cells": [
  {
   "cell_type": "markdown",
   "id": "cbe39ef8",
   "metadata": {},
   "source": [
    "# Pandas "
   ]
  },
  {
   "cell_type": "markdown",
   "id": "6ad904ad",
   "metadata": {},
   "source": [
    "## contenido\n",
    "- Fundamentos y E/S\n",
    "- Selección, filtrado e indexación \n",
    "- Limpieza y preparación de datos \n",
    "- Transformaciones y funciones\n",
    "- Agrupaciones, pivotes y ventanas \n",
    "- Joins, concat y reshaping \n",
    "- Series de tiempo \n",
    "- Texto y categóricos\n",
    "- Rendimiento y depuración\n",
    "- Visualización con Matplotlib \n",
    "\n",
    "[Cheat sheet](https://pandas.pydata.org/Pandas_Cheat_Sheet.pdf)"
   ]
  },
  {
   "cell_type": "markdown",
   "id": "ab89cb1a",
   "metadata": {},
   "source": [
    "# importaciones"
   ]
  },
  {
   "cell_type": "code",
   "execution_count": 1,
   "id": "45ee516c",
   "metadata": {},
   "outputs": [],
   "source": [
    "import numpy as np\n",
    "import pandas as pd\n",
    "from pathlib import Path\n",
    "from sklearn.preprocessing import MinMaxScaler"
   ]
  },
  {
   "cell_type": "markdown",
   "id": "b0ab8fd1",
   "metadata": {},
   "source": [
    "# rutas"
   ]
  },
  {
   "cell_type": "code",
   "execution_count": 14,
   "id": "59156470",
   "metadata": {},
   "outputs": [],
   "source": [
    "np.random.seed(42)\n",
    "data_dir = Path('src/static')\n",
    "data_dir.mkdir(parents=True, exist_ok=True)"
   ]
  },
  {
   "cell_type": "markdown",
   "id": "346d2f32",
   "metadata": {},
   "source": [
    "# Fundamentos y E/S"
   ]
  },
  {
   "cell_type": "markdown",
   "id": "564824ec",
   "metadata": {},
   "source": [
    "### Crear Series y DataFrames\n",
    "\n",
    "![Serie](src/static/csv/img/serie.png) ![DataFrame](src/static/csv/img/dataframe.png) "
   ]
  },
  {
   "cell_type": "code",
   "execution_count": 11,
   "id": "43b0442a",
   "metadata": {},
   "outputs": [
    {
     "name": "stdout",
     "output_type": "stream",
     "text": [
      "0    x\n",
      "1    y\n",
      "2    z\n",
      "Name: S, dtype: object\n"
     ]
    }
   ],
   "source": [
    "s = [\"x\",\"y\",\"z\"]\n",
    "series = pd.Series(s, name=\"S\")\n",
    "print(series)"
   ]
  },
  {
   "cell_type": "code",
   "execution_count": 12,
   "id": "9213f190",
   "metadata": {},
   "outputs": [
    {
     "name": "stdout",
     "output_type": "stream",
     "text": [
      "   A  B\n",
      "0  1  x\n",
      "1  2  y\n",
      "2  3  z\n"
     ]
    }
   ],
   "source": [
    "a = [1,2,3]\n",
    "b = [\"x\",\"y\",\"z\"]\n",
    "df = pd.DataFrame({\"A\":a, \"B\":b})\n",
    "print(df)"
   ]
  },
  {
   "cell_type": "markdown",
   "id": "5e55ef39",
   "metadata": {},
   "source": [
    "### Lectura"
   ]
  },
  {
   "cell_type": "code",
   "execution_count": 15,
   "id": "795f4d36",
   "metadata": {},
   "outputs": [
    {
     "data": {
      "text/html": [
       "<div>\n",
       "<style scoped>\n",
       "    .dataframe tbody tr th:only-of-type {\n",
       "        vertical-align: middle;\n",
       "    }\n",
       "\n",
       "    .dataframe tbody tr th {\n",
       "        vertical-align: top;\n",
       "    }\n",
       "\n",
       "    .dataframe thead th {\n",
       "        text-align: right;\n",
       "    }\n",
       "</style>\n",
       "<table border=\"1\" class=\"dataframe\">\n",
       "  <thead>\n",
       "    <tr style=\"text-align: right;\">\n",
       "      <th></th>\n",
       "      <th>country</th>\n",
       "      <th>designation</th>\n",
       "      <th>points</th>\n",
       "      <th>price</th>\n",
       "      <th>province</th>\n",
       "      <th>region_1</th>\n",
       "      <th>region_2</th>\n",
       "      <th>variety</th>\n",
       "      <th>winery</th>\n",
       "      <th>last_year_points</th>\n",
       "    </tr>\n",
       "  </thead>\n",
       "  <tbody>\n",
       "    <tr>\n",
       "      <th>0</th>\n",
       "      <td>US</td>\n",
       "      <td>Martha's Vineyard</td>\n",
       "      <td>96.0</td>\n",
       "      <td>235.0</td>\n",
       "      <td>California</td>\n",
       "      <td>Napa Valley</td>\n",
       "      <td>Napa</td>\n",
       "      <td>Cabernet Sauvignon</td>\n",
       "      <td>Heitz</td>\n",
       "      <td>94</td>\n",
       "    </tr>\n",
       "    <tr>\n",
       "      <th>1</th>\n",
       "      <td>Spain</td>\n",
       "      <td>Carodorum Selección Especial Reserva</td>\n",
       "      <td>96.0</td>\n",
       "      <td>110.0</td>\n",
       "      <td>Northern Spain</td>\n",
       "      <td>Toro</td>\n",
       "      <td>NaN</td>\n",
       "      <td>Tinta de Toro</td>\n",
       "      <td>Bodega Carmen Rodríguez</td>\n",
       "      <td>92</td>\n",
       "    </tr>\n",
       "  </tbody>\n",
       "</table>\n",
       "</div>"
      ],
      "text/plain": [
       "  country                           designation  points  price  \\\n",
       "0      US                     Martha's Vineyard    96.0  235.0   \n",
       "1   Spain  Carodorum Selección Especial Reserva    96.0  110.0   \n",
       "\n",
       "         province     region_1 region_2             variety  \\\n",
       "0      California  Napa Valley     Napa  Cabernet Sauvignon   \n",
       "1  Northern Spain         Toro      NaN       Tinta de Toro   \n",
       "\n",
       "                    winery  last_year_points  \n",
       "0                    Heitz                94  \n",
       "1  Bodega Carmen Rodríguez                92  "
      ]
     },
     "execution_count": 15,
     "metadata": {},
     "output_type": "execute_result"
    }
   ],
   "source": [
    "# ruta\n",
    "ruta_csv = \"/workspaces/PAD_2025_IIB1/src/static/csv/winemag-data_first150k.csv\"\n",
    "# variable\n",
    "#lectura de csv\n",
    "df_csv = pd.read_csv(ruta_csv,delimiter=\";\")\n",
    "df_csv.head(2)\n",
    "#lectura de excel\n",
    "#ruta_excel = \"static/excel/mi_excel.xlsx\"\n",
    "#df_excel = pd.read_excel(ruta_excel, sheet_name=\"Hoja1\")\n",
    "#LECTURA DE JSON\n",
    "# ruta_json = \"static/json/mi_json.json\"  \n",
    "# df_json = pd.read_json(ruta_json)\n",
    "#LECTURA DE HTML\n",
    "# ruta_html = \"static/html/mi_html.html\"\n",
    "# df_html = pd.read_html(ruta_html)\n",
    "#LECTURA DE PARQUET\n",
    "# ruta_parquet = \"static/parquet/mi_parquet.parquet\"    \n",
    "# df_parquet = pd.read_parquet(ruta_parquet)"
   ]
  },
  {
   "cell_type": "markdown",
   "id": "99de7bdf",
   "metadata": {},
   "source": [
    "### Selección de columnas"
   ]
  },
  {
   "cell_type": "code",
   "execution_count": 16,
   "id": "2e6f51be",
   "metadata": {},
   "outputs": [
    {
     "data": {
      "text/plain": [
       "['country',\n",
       " 'designation',\n",
       " 'points',\n",
       " 'price',\n",
       " 'province',\n",
       " 'region_1',\n",
       " 'region_2',\n",
       " 'variety',\n",
       " 'winery',\n",
       " 'last_year_points']"
      ]
     },
     "execution_count": 16,
     "metadata": {},
     "output_type": "execute_result"
    }
   ],
   "source": [
    "columnas = ['country', 'designation', 'points', 'price', 'province', 'region_1','region_2', 'variety', 'winery', 'last_year_points']\n",
    "columnas"
   ]
  }
 ],
 "metadata": {
  "kernelspec": {
   "display_name": "Python 3",
   "language": "python",
   "name": "python3"
  },
  "language_info": {
   "codemirror_mode": {
    "name": "ipython",
    "version": 3
   },
   "file_extension": ".py",
   "mimetype": "text/x-python",
   "name": "python",
   "nbconvert_exporter": "python",
   "pygments_lexer": "ipython3",
   "version": "3.12.1"
  }
 },
 "nbformat": 4,
 "nbformat_minor": 5
}
