{
 "cells": [
  {
   "cell_type": "markdown",
   "id": "cbe39ef8",
   "metadata": {},
   "source": [
    "# Pandas "
   ]
  },
  {
   "cell_type": "markdown",
   "id": "6ad904ad",
   "metadata": {},
   "source": [
    "## contenido\n",
    "- Fundamentos y E/S\n",
    "- Selección, filtrado e indexación \n",
    "- Limpieza y preparación de datos \n",
    "- Transformaciones y funciones\n",
    "- Agrupaciones, pivotes y ventanas \n",
    "- Joins, concat y reshaping \n",
    "- Series de tiempo \n",
    "- Texto y categóricos\n",
    "- Rendimiento y depuración\n",
    "- Visualización con Matplotlib \n",
    "\n",
    "[Cheat sheet](https://pandas.pydata.org/Pandas_Cheat_Sheet.pdf)"
   ]
  },
  {
   "cell_type": "markdown",
   "id": "ab89cb1a",
   "metadata": {},
   "source": [
    "# importaciones"
   ]
  },
  {
   "cell_type": "code",
   "execution_count": 1,
   "id": "45ee516c",
   "metadata": {},
   "outputs": [],
   "source": [
    "import numpy as np\n",
    "import pandas as pd\n",
    "from pathlib import Path\n",
    "from sklearn.preprocessing import MinMaxScaler"
   ]
  },
  {
   "cell_type": "markdown",
   "id": "b0ab8fd1",
   "metadata": {},
   "source": [
    "# rutas"
   ]
  },
  {
   "cell_type": "code",
   "execution_count": 14,
   "id": "59156470",
   "metadata": {},
   "outputs": [],
   "source": [
    "np.random.seed(42)\n",
    "data_dir = Path('src/static')\n",
    "data_dir.mkdir(parents=True, exist_ok=True)"
   ]
  },
  {
   "cell_type": "markdown",
   "id": "346d2f32",
   "metadata": {},
   "source": [
    "# Fundamentos y E/S"
   ]
  },
  {
   "cell_type": "markdown",
   "id": "564824ec",
   "metadata": {},
   "source": [
    "### Crear Series y DataFrames\n",
    "\n",
    "![Serie](src/static/csv/img/serie.png) ![DataFrame](src/static/csv/img/dataframe.png) "
   ]
  },
  {
   "cell_type": "code",
   "execution_count": 11,
   "id": "43b0442a",
   "metadata": {},
   "outputs": [
    {
     "name": "stdout",
     "output_type": "stream",
     "text": [
      "0    x\n",
      "1    y\n",
      "2    z\n",
      "Name: S, dtype: object\n"
     ]
    }
   ],
   "source": [
    "s = [\"x\",\"y\",\"z\"]\n",
    "series = pd.Series(s, name=\"S\")\n",
    "print(series)"
   ]
  },
  {
   "cell_type": "code",
   "execution_count": 12,
   "id": "9213f190",
   "metadata": {},
   "outputs": [
    {
     "name": "stdout",
     "output_type": "stream",
     "text": [
      "   A  B\n",
      "0  1  x\n",
      "1  2  y\n",
      "2  3  z\n"
     ]
    }
   ],
   "source": [
    "a = [1,2,3]\n",
    "b = [\"x\",\"y\",\"z\"]\n",
    "df = pd.DataFrame({\"A\":a, \"B\":b})\n",
    "print(df)"
   ]
  },
  {
   "cell_type": "markdown",
   "id": "5e55ef39",
   "metadata": {},
   "source": [
    "### Lectura"
   ]
  },
  {
   "cell_type": "code",
   "execution_count": 15,
   "id": "795f4d36",
   "metadata": {},
   "outputs": [
    {
     "data": {
      "text/html": [
       "<div>\n",
       "<style scoped>\n",
       "    .dataframe tbody tr th:only-of-type {\n",
       "        vertical-align: middle;\n",
       "    }\n",
       "\n",
       "    .dataframe tbody tr th {\n",
       "        vertical-align: top;\n",
       "    }\n",
       "\n",
       "    .dataframe thead th {\n",
       "        text-align: right;\n",
       "    }\n",
       "</style>\n",
       "<table border=\"1\" class=\"dataframe\">\n",
       "  <thead>\n",
       "    <tr style=\"text-align: right;\">\n",
       "      <th></th>\n",
       "      <th>country</th>\n",
       "      <th>designation</th>\n",
       "      <th>points</th>\n",
       "      <th>price</th>\n",
       "      <th>province</th>\n",
       "      <th>region_1</th>\n",
       "      <th>region_2</th>\n",
       "      <th>variety</th>\n",
       "      <th>winery</th>\n",
       "      <th>last_year_points</th>\n",
       "    </tr>\n",
       "  </thead>\n",
       "  <tbody>\n",
       "    <tr>\n",
       "      <th>0</th>\n",
       "      <td>US</td>\n",
       "      <td>Martha's Vineyard</td>\n",
       "      <td>96.0</td>\n",
       "      <td>235.0</td>\n",
       "      <td>California</td>\n",
       "      <td>Napa Valley</td>\n",
       "      <td>Napa</td>\n",
       "      <td>Cabernet Sauvignon</td>\n",
       "      <td>Heitz</td>\n",
       "      <td>94</td>\n",
       "    </tr>\n",
       "    <tr>\n",
       "      <th>1</th>\n",
       "      <td>Spain</td>\n",
       "      <td>Carodorum Selección Especial Reserva</td>\n",
       "      <td>96.0</td>\n",
       "      <td>110.0</td>\n",
       "      <td>Northern Spain</td>\n",
       "      <td>Toro</td>\n",
       "      <td>NaN</td>\n",
       "      <td>Tinta de Toro</td>\n",
       "      <td>Bodega Carmen Rodríguez</td>\n",
       "      <td>92</td>\n",
       "    </tr>\n",
       "  </tbody>\n",
       "</table>\n",
       "</div>"
      ],
      "text/plain": [
       "  country                           designation  points  price  \\\n",
       "0      US                     Martha's Vineyard    96.0  235.0   \n",
       "1   Spain  Carodorum Selección Especial Reserva    96.0  110.0   \n",
       "\n",
       "         province     region_1 region_2             variety  \\\n",
       "0      California  Napa Valley     Napa  Cabernet Sauvignon   \n",
       "1  Northern Spain         Toro      NaN       Tinta de Toro   \n",
       "\n",
       "                    winery  last_year_points  \n",
       "0                    Heitz                94  \n",
       "1  Bodega Carmen Rodríguez                92  "
      ]
     },
     "execution_count": 15,
     "metadata": {},
     "output_type": "execute_result"
    }
   ],
   "source": [
    "# ruta\n",
    "ruta_csv = \"/workspaces/PAD_2025_IIB1/src/static/csv/winemag-data_first150k.csv\"\n",
    "# variable\n",
    "#lectura de csv\n",
    "df_csv = pd.read_csv(ruta_csv,delimiter=\";\")\n",
    "df_csv.head(2)\n",
    "#lectura de excel\n",
    "#ruta_excel = \"static/excel/mi_excel.xlsx\"\n",
    "#df_excel = pd.read_excel(ruta_excel, sheet_name=\"Hoja1\")\n",
    "#LECTURA DE JSON\n",
    "# ruta_json = \"static/json/mi_json.json\"  \n",
    "# df_json = pd.read_json(ruta_json)\n",
    "#LECTURA DE HTML\n",
    "# ruta_html = \"static/html/mi_html.html\"\n",
    "# df_html = pd.read_html(ruta_html)\n",
    "#LECTURA DE PARQUET\n",
    "# ruta_parquet = \"static/parquet/mi_parquet.parquet\"    \n",
    "# df_parquet = pd.read_parquet(ruta_parquet)"
   ]
  },
  {
   "cell_type": "markdown",
   "id": "99de7bdf",
   "metadata": {},
   "source": [
    "### Selección de columnas"
   ]
  },
  {
   "cell_type": "code",
   "execution_count": 16,
   "id": "2e6f51be",
   "metadata": {},
   "outputs": [
    {
     "data": {
      "text/plain": [
       "['country',\n",
       " 'designation',\n",
       " 'points',\n",
       " 'price',\n",
       " 'province',\n",
       " 'region_1',\n",
       " 'region_2',\n",
       " 'variety',\n",
       " 'winery',\n",
       " 'last_year_points']"
      ]
     },
     "execution_count": 16,
     "metadata": {},
     "output_type": "execute_result"
    }
   ],
   "source": [
    "columnas = ['country', 'designation', 'points', 'price', 'province', 'region_1','region_2', 'variety', 'winery', 'last_year_points']\n",
    "columnas"
   ]
  },
  {
   "cell_type": "code",
   "execution_count": 17,
   "id": "c00d0e3b",
   "metadata": {},
   "outputs": [
    {
     "data": {
      "text/plain": [
       "0       US\n",
       "1    Spain\n",
       "Name: country, dtype: object"
      ]
     },
     "execution_count": 17,
     "metadata": {},
     "output_type": "execute_result"
    }
   ],
   "source": [
    "columnas_filtradas = ['country', 'designation', 'price']\n",
    "df_csv['country'].head(2)"
   ]
  },
  {
   "cell_type": "code",
   "execution_count": 18,
   "id": "762461d7",
   "metadata": {},
   "outputs": [
    {
     "data": {
      "text/html": [
       "<div>\n",
       "<style scoped>\n",
       "    .dataframe tbody tr th:only-of-type {\n",
       "        vertical-align: middle;\n",
       "    }\n",
       "\n",
       "    .dataframe tbody tr th {\n",
       "        vertical-align: top;\n",
       "    }\n",
       "\n",
       "    .dataframe thead th {\n",
       "        text-align: right;\n",
       "    }\n",
       "</style>\n",
       "<table border=\"1\" class=\"dataframe\">\n",
       "  <thead>\n",
       "    <tr style=\"text-align: right;\">\n",
       "      <th></th>\n",
       "      <th>country</th>\n",
       "      <th>designation</th>\n",
       "      <th>price</th>\n",
       "    </tr>\n",
       "  </thead>\n",
       "  <tbody>\n",
       "    <tr>\n",
       "      <th>0</th>\n",
       "      <td>US</td>\n",
       "      <td>Martha's Vineyard</td>\n",
       "      <td>235.0</td>\n",
       "    </tr>\n",
       "    <tr>\n",
       "      <th>1</th>\n",
       "      <td>Spain</td>\n",
       "      <td>Carodorum Selección Especial Reserva</td>\n",
       "      <td>110.0</td>\n",
       "    </tr>\n",
       "  </tbody>\n",
       "</table>\n",
       "</div>"
      ],
      "text/plain": [
       "  country                           designation  price\n",
       "0      US                     Martha's Vineyard  235.0\n",
       "1   Spain  Carodorum Selección Especial Reserva  110.0"
      ]
     },
     "execution_count": 18,
     "metadata": {},
     "output_type": "execute_result"
    }
   ],
   "source": [
    "columnas_filtradas = ['country', 'designation', 'price']\n",
    "df_csv[columnas_filtradas].head(2)\n",
    "#df_2 =df_csv[columnas_filtradas].head(2)"
   ]
  },
  {
   "cell_type": "markdown",
   "id": "3ad423e3",
   "metadata": {},
   "source": [
    "### Información general dataframe"
   ]
  },
  {
   "cell_type": "code",
   "execution_count": 19,
   "id": "c801b688",
   "metadata": {},
   "outputs": [
    {
     "name": "stdout",
     "output_type": "stream",
     "text": [
      "<class 'pandas.core.frame.DataFrame'>\n",
      "RangeIndex: 144037 entries, 0 to 144036\n",
      "Data columns (total 10 columns):\n",
      " #   Column            Non-Null Count   Dtype  \n",
      "---  ------            --------------   -----  \n",
      " 0   country           144035 non-null  object \n",
      " 1   designation       100211 non-null  object \n",
      " 2   points            144032 non-null  float64\n",
      " 3   price             130641 non-null  float64\n",
      " 4   province          144030 non-null  object \n",
      " 5   region_1          120192 non-null  object \n",
      " 6   region_2          58378 non-null   object \n",
      " 7   variety           144032 non-null  object \n",
      " 8   winery            144032 non-null  object \n",
      " 9   last_year_points  144037 non-null  int64  \n",
      "dtypes: float64(2), int64(1), object(7)\n",
      "memory usage: 11.0+ MB\n"
     ]
    }
   ],
   "source": [
    "df_csv.info()"
   ]
  },
  {
   "cell_type": "code",
   "execution_count": 20,
   "id": "f8902927",
   "metadata": {},
   "outputs": [
    {
     "data": {
      "text/html": [
       "<div>\n",
       "<style scoped>\n",
       "    .dataframe tbody tr th:only-of-type {\n",
       "        vertical-align: middle;\n",
       "    }\n",
       "\n",
       "    .dataframe tbody tr th {\n",
       "        vertical-align: top;\n",
       "    }\n",
       "\n",
       "    .dataframe thead th {\n",
       "        text-align: right;\n",
       "    }\n",
       "</style>\n",
       "<table border=\"1\" class=\"dataframe\">\n",
       "  <thead>\n",
       "    <tr style=\"text-align: right;\">\n",
       "      <th></th>\n",
       "      <th>points</th>\n",
       "      <th>price</th>\n",
       "      <th>last_year_points</th>\n",
       "    </tr>\n",
       "  </thead>\n",
       "  <tbody>\n",
       "    <tr>\n",
       "      <th>count</th>\n",
       "      <td>144032.000000</td>\n",
       "      <td>130641.000000</td>\n",
       "      <td>144037.000000</td>\n",
       "    </tr>\n",
       "    <tr>\n",
       "      <th>mean</th>\n",
       "      <td>87.873424</td>\n",
       "      <td>33.123399</td>\n",
       "      <td>89.998452</td>\n",
       "    </tr>\n",
       "    <tr>\n",
       "      <th>std</th>\n",
       "      <td>3.215821</td>\n",
       "      <td>36.368177</td>\n",
       "      <td>6.050240</td>\n",
       "    </tr>\n",
       "    <tr>\n",
       "      <th>min</th>\n",
       "      <td>80.000000</td>\n",
       "      <td>4.000000</td>\n",
       "      <td>80.000000</td>\n",
       "    </tr>\n",
       "    <tr>\n",
       "      <th>25%</th>\n",
       "      <td>86.000000</td>\n",
       "      <td>16.000000</td>\n",
       "      <td>85.000000</td>\n",
       "    </tr>\n",
       "    <tr>\n",
       "      <th>50%</th>\n",
       "      <td>88.000000</td>\n",
       "      <td>24.000000</td>\n",
       "      <td>90.000000</td>\n",
       "    </tr>\n",
       "    <tr>\n",
       "      <th>75%</th>\n",
       "      <td>90.000000</td>\n",
       "      <td>40.000000</td>\n",
       "      <td>95.000000</td>\n",
       "    </tr>\n",
       "    <tr>\n",
       "      <th>max</th>\n",
       "      <td>100.000000</td>\n",
       "      <td>2300.000000</td>\n",
       "      <td>100.000000</td>\n",
       "    </tr>\n",
       "  </tbody>\n",
       "</table>\n",
       "</div>"
      ],
      "text/plain": [
       "              points          price  last_year_points\n",
       "count  144032.000000  130641.000000     144037.000000\n",
       "mean       87.873424      33.123399         89.998452\n",
       "std         3.215821      36.368177          6.050240\n",
       "min        80.000000       4.000000         80.000000\n",
       "25%        86.000000      16.000000         85.000000\n",
       "50%        88.000000      24.000000         90.000000\n",
       "75%        90.000000      40.000000         95.000000\n",
       "max       100.000000    2300.000000        100.000000"
      ]
     },
     "execution_count": 20,
     "metadata": {},
     "output_type": "execute_result"
    }
   ],
   "source": [
    "df_csv.describe()"
   ]
  },
  {
   "cell_type": "markdown",
   "id": "8022d39b",
   "metadata": {},
   "source": [
    "### Tipos de Conversion"
   ]
  },
  {
   "cell_type": "code",
   "execution_count": 21,
   "id": "cd9e171b",
   "metadata": {},
   "outputs": [
    {
     "data": {
      "text/plain": [
       "144037"
      ]
     },
     "execution_count": 21,
     "metadata": {},
     "output_type": "execute_result"
    }
   ],
   "source": [
    "len(df_csv)"
   ]
  },
  {
   "cell_type": "code",
   "execution_count": 22,
   "id": "9482c416",
   "metadata": {},
   "outputs": [
    {
     "data": {
      "text/plain": [
       "0   2025-04-13\n",
       "1   2025-12-15\n",
       "Name: date_f, dtype: datetime64[ns]"
      ]
     },
     "execution_count": 22,
     "metadata": {},
     "output_type": "execute_result"
    }
   ],
   "source": [
    "df_csv[\"date_f\"]= np.random.choice(pd.date_range(\"2025-01-01\", \"2025-12-31\"), size=len(df_csv))\n",
    "df_csv[\"date_f\"].head(2)"
   ]
  },
  {
   "cell_type": "code",
   "execution_count": 23,
   "id": "34bdfa70",
   "metadata": {},
   "outputs": [
    {
     "data": {
      "text/plain": [
       "0   2025-04-13\n",
       "1   2025-12-15\n",
       "Name: fecha, dtype: datetime64[ns]"
      ]
     },
     "execution_count": 23,
     "metadata": {},
     "output_type": "execute_result"
    }
   ],
   "source": [
    "df_fecha = pd.DataFrame()\n",
    "df_fecha[\"fecha\"] = pd.to_datetime(df_csv[\"date_f\"], format=\"%Y-%m-%d\")\n",
    "#df_fecha[\"fecha\"] = pd.to_datetime(df_csv[\"date_f\"], format=\"%Y-%m-%d\")\n",
    "df_fecha[\"fecha\"].head(2)"
   ]
  },
  {
   "cell_type": "code",
   "execution_count": 24,
   "id": "319355c2",
   "metadata": {},
   "outputs": [
    {
     "data": {
      "text/plain": [
       "fecha   2025-01-01\n",
       "dtype: datetime64[ns]"
      ]
     },
     "execution_count": 24,
     "metadata": {},
     "output_type": "execute_result"
    }
   ],
   "source": [
    "df_fecha.min()"
   ]
  },
  {
   "cell_type": "code",
   "execution_count": 25,
   "id": "83d39c4e",
   "metadata": {},
   "outputs": [
    {
     "data": {
      "text/plain": [
       "fecha   2025-12-31\n",
       "dtype: datetime64[ns]"
      ]
     },
     "execution_count": 25,
     "metadata": {},
     "output_type": "execute_result"
    }
   ],
   "source": [
    "df_fecha.max()"
   ]
  },
  {
   "cell_type": "markdown",
   "id": "4732eac2",
   "metadata": {},
   "source": [
    "### Guardado de subconjunto"
   ]
  },
  {
   "cell_type": "code",
   "execution_count": 26,
   "id": "0020205f",
   "metadata": {},
   "outputs": [],
   "source": [
    "df_fecha[\"fecha2\"] = pd.to_datetime(df_csv[\"date_f\"], format=\"%Y-%m-%d\").copy()"
   ]
  },
  {
   "cell_type": "code",
   "execution_count": 27,
   "id": "c7a20b17",
   "metadata": {},
   "outputs": [
    {
     "data": {
      "text/html": [
       "<div>\n",
       "<style scoped>\n",
       "    .dataframe tbody tr th:only-of-type {\n",
       "        vertical-align: middle;\n",
       "    }\n",
       "\n",
       "    .dataframe tbody tr th {\n",
       "        vertical-align: top;\n",
       "    }\n",
       "\n",
       "    .dataframe thead th {\n",
       "        text-align: right;\n",
       "    }\n",
       "</style>\n",
       "<table border=\"1\" class=\"dataframe\">\n",
       "  <thead>\n",
       "    <tr style=\"text-align: right;\">\n",
       "      <th></th>\n",
       "      <th>fecha</th>\n",
       "      <th>fecha2</th>\n",
       "    </tr>\n",
       "  </thead>\n",
       "  <tbody>\n",
       "    <tr>\n",
       "      <th>1</th>\n",
       "      <td>2025-12-15</td>\n",
       "      <td>2025-12-15</td>\n",
       "    </tr>\n",
       "    <tr>\n",
       "      <th>2</th>\n",
       "      <td>2025-09-28</td>\n",
       "      <td>2025-09-28</td>\n",
       "    </tr>\n",
       "    <tr>\n",
       "      <th>10</th>\n",
       "      <td>2025-11-27</td>\n",
       "      <td>2025-11-27</td>\n",
       "    </tr>\n",
       "    <tr>\n",
       "      <th>13</th>\n",
       "      <td>2025-12-26</td>\n",
       "      <td>2025-12-26</td>\n",
       "    </tr>\n",
       "    <tr>\n",
       "      <th>17</th>\n",
       "      <td>2025-11-05</td>\n",
       "      <td>2025-11-05</td>\n",
       "    </tr>\n",
       "    <tr>\n",
       "      <th>...</th>\n",
       "      <td>...</td>\n",
       "      <td>...</td>\n",
       "    </tr>\n",
       "    <tr>\n",
       "      <th>144024</th>\n",
       "      <td>2025-12-16</td>\n",
       "      <td>2025-12-16</td>\n",
       "    </tr>\n",
       "    <tr>\n",
       "      <th>144028</th>\n",
       "      <td>2025-10-31</td>\n",
       "      <td>2025-10-31</td>\n",
       "    </tr>\n",
       "    <tr>\n",
       "      <th>144033</th>\n",
       "      <td>2025-10-22</td>\n",
       "      <td>2025-10-22</td>\n",
       "    </tr>\n",
       "    <tr>\n",
       "      <th>144035</th>\n",
       "      <td>2025-09-06</td>\n",
       "      <td>2025-09-06</td>\n",
       "    </tr>\n",
       "    <tr>\n",
       "      <th>144036</th>\n",
       "      <td>2025-09-22</td>\n",
       "      <td>2025-09-22</td>\n",
       "    </tr>\n",
       "  </tbody>\n",
       "</table>\n",
       "<p>47899 rows × 2 columns</p>\n",
       "</div>"
      ],
      "text/plain": [
       "            fecha     fecha2\n",
       "1      2025-12-15 2025-12-15\n",
       "2      2025-09-28 2025-09-28\n",
       "10     2025-11-27 2025-11-27\n",
       "13     2025-12-26 2025-12-26\n",
       "17     2025-11-05 2025-11-05\n",
       "...           ...        ...\n",
       "144024 2025-12-16 2025-12-16\n",
       "144028 2025-10-31 2025-10-31\n",
       "144033 2025-10-22 2025-10-22\n",
       "144035 2025-09-06 2025-09-06\n",
       "144036 2025-09-22 2025-09-22\n",
       "\n",
       "[47899 rows x 2 columns]"
      ]
     },
     "execution_count": 27,
     "metadata": {},
     "output_type": "execute_result"
    }
   ],
   "source": [
    "df_fecha[df_fecha[\"fecha2\"] > \"2025-08-31\"].copy()"
   ]
  },
  {
   "cell_type": "markdown",
   "id": "d3b87017",
   "metadata": {},
   "source": [
    "### Creación de indice"
   ]
  },
  {
   "cell_type": "code",
   "execution_count": 28,
   "id": "c1fcba7e",
   "metadata": {},
   "outputs": [
    {
     "name": "stdout",
     "output_type": "stream",
     "text": [
      "               fecha2\n",
      "fecha                \n",
      "2025-04-13 2025-04-13\n",
      "2025-12-15 2025-12-15\n",
      "   index      fecha     fecha2\n",
      "0      0 2025-04-13 2025-04-13\n",
      "1      1 2025-12-15 2025-12-15\n"
     ]
    }
   ],
   "source": [
    "# definir la columna fecha como indice\n",
    "indices =   df_fecha.set_index(\"fecha\").copy()\n",
    "print(indices.head(2))\n",
    "# crear indice general\n",
    "indices2 = df_fecha.reset_index().copy()\n",
    "print(indices2.head(2))"
   ]
  },
  {
   "cell_type": "markdown",
   "id": "06a74116",
   "metadata": {},
   "source": [
    "### valores unicos"
   ]
  },
  {
   "cell_type": "code",
   "execution_count": 29,
   "id": "70edbadb",
   "metadata": {},
   "outputs": [
    {
     "data": {
      "text/plain": [
       "365"
      ]
     },
     "execution_count": 29,
     "metadata": {},
     "output_type": "execute_result"
    }
   ],
   "source": [
    "indices2[\"fecha\"].nunique()"
   ]
  },
  {
   "cell_type": "markdown",
   "id": "3525fa7a",
   "metadata": {},
   "source": [
    "### Ordenar"
   ]
  },
  {
   "cell_type": "code",
   "execution_count": 30,
   "id": "6e54922f",
   "metadata": {},
   "outputs": [
    {
     "data": {
      "text/html": [
       "<div>\n",
       "<style scoped>\n",
       "    .dataframe tbody tr th:only-of-type {\n",
       "        vertical-align: middle;\n",
       "    }\n",
       "\n",
       "    .dataframe tbody tr th {\n",
       "        vertical-align: top;\n",
       "    }\n",
       "\n",
       "    .dataframe thead th {\n",
       "        text-align: right;\n",
       "    }\n",
       "</style>\n",
       "<table border=\"1\" class=\"dataframe\">\n",
       "  <thead>\n",
       "    <tr style=\"text-align: right;\">\n",
       "      <th></th>\n",
       "      <th>index</th>\n",
       "      <th>fecha</th>\n",
       "      <th>fecha2</th>\n",
       "    </tr>\n",
       "  </thead>\n",
       "  <tbody>\n",
       "    <tr>\n",
       "      <th>52566</th>\n",
       "      <td>52566</td>\n",
       "      <td>2025-01-01</td>\n",
       "      <td>2025-01-01</td>\n",
       "    </tr>\n",
       "    <tr>\n",
       "      <th>117850</th>\n",
       "      <td>117850</td>\n",
       "      <td>2025-01-01</td>\n",
       "      <td>2025-01-01</td>\n",
       "    </tr>\n",
       "    <tr>\n",
       "      <th>57006</th>\n",
       "      <td>57006</td>\n",
       "      <td>2025-01-01</td>\n",
       "      <td>2025-01-01</td>\n",
       "    </tr>\n",
       "    <tr>\n",
       "      <th>37688</th>\n",
       "      <td>37688</td>\n",
       "      <td>2025-01-01</td>\n",
       "      <td>2025-01-01</td>\n",
       "    </tr>\n",
       "    <tr>\n",
       "      <th>96327</th>\n",
       "      <td>96327</td>\n",
       "      <td>2025-01-01</td>\n",
       "      <td>2025-01-01</td>\n",
       "    </tr>\n",
       "    <tr>\n",
       "      <th>69559</th>\n",
       "      <td>69559</td>\n",
       "      <td>2025-01-01</td>\n",
       "      <td>2025-01-01</td>\n",
       "    </tr>\n",
       "    <tr>\n",
       "      <th>32314</th>\n",
       "      <td>32314</td>\n",
       "      <td>2025-01-01</td>\n",
       "      <td>2025-01-01</td>\n",
       "    </tr>\n",
       "    <tr>\n",
       "      <th>108096</th>\n",
       "      <td>108096</td>\n",
       "      <td>2025-01-01</td>\n",
       "      <td>2025-01-01</td>\n",
       "    </tr>\n",
       "    <tr>\n",
       "      <th>120621</th>\n",
       "      <td>120621</td>\n",
       "      <td>2025-01-01</td>\n",
       "      <td>2025-01-01</td>\n",
       "    </tr>\n",
       "    <tr>\n",
       "      <th>57008</th>\n",
       "      <td>57008</td>\n",
       "      <td>2025-01-01</td>\n",
       "      <td>2025-01-01</td>\n",
       "    </tr>\n",
       "  </tbody>\n",
       "</table>\n",
       "</div>"
      ],
      "text/plain": [
       "         index      fecha     fecha2\n",
       "52566    52566 2025-01-01 2025-01-01\n",
       "117850  117850 2025-01-01 2025-01-01\n",
       "57006    57006 2025-01-01 2025-01-01\n",
       "37688    37688 2025-01-01 2025-01-01\n",
       "96327    96327 2025-01-01 2025-01-01\n",
       "69559    69559 2025-01-01 2025-01-01\n",
       "32314    32314 2025-01-01 2025-01-01\n",
       "108096  108096 2025-01-01 2025-01-01\n",
       "120621  120621 2025-01-01 2025-01-01\n",
       "57008    57008 2025-01-01 2025-01-01"
      ]
     },
     "execution_count": 30,
     "metadata": {},
     "output_type": "execute_result"
    }
   ],
   "source": [
    "indices2.sort_values(by=\"fecha\", ascending=True).head(10)"
   ]
  },
  {
   "cell_type": "markdown",
   "id": "4ab89f0d",
   "metadata": {},
   "source": [
    "# Selección, filtrado e indexación "
   ]
  },
  {
   "cell_type": "markdown",
   "id": "232246ee",
   "metadata": {},
   "source": [
    "### loc / iloc"
   ]
  },
  {
   "cell_type": "code",
   "execution_count": 31,
   "id": "d04a9d2a",
   "metadata": {},
   "outputs": [
    {
     "data": {
      "text/html": [
       "<div>\n",
       "<style scoped>\n",
       "    .dataframe tbody tr th:only-of-type {\n",
       "        vertical-align: middle;\n",
       "    }\n",
       "\n",
       "    .dataframe tbody tr th {\n",
       "        vertical-align: top;\n",
       "    }\n",
       "\n",
       "    .dataframe thead th {\n",
       "        text-align: right;\n",
       "    }\n",
       "</style>\n",
       "<table border=\"1\" class=\"dataframe\">\n",
       "  <thead>\n",
       "    <tr style=\"text-align: right;\">\n",
       "      <th></th>\n",
       "      <th>fecha</th>\n",
       "    </tr>\n",
       "  </thead>\n",
       "  <tbody>\n",
       "    <tr>\n",
       "      <th>500</th>\n",
       "      <td>2025-09-04</td>\n",
       "    </tr>\n",
       "    <tr>\n",
       "      <th>501</th>\n",
       "      <td>2025-09-15</td>\n",
       "    </tr>\n",
       "    <tr>\n",
       "      <th>502</th>\n",
       "      <td>2025-06-09</td>\n",
       "    </tr>\n",
       "    <tr>\n",
       "      <th>503</th>\n",
       "      <td>2025-12-06</td>\n",
       "    </tr>\n",
       "    <tr>\n",
       "      <th>504</th>\n",
       "      <td>2025-06-01</td>\n",
       "    </tr>\n",
       "    <tr>\n",
       "      <th>...</th>\n",
       "      <td>...</td>\n",
       "    </tr>\n",
       "    <tr>\n",
       "      <th>144032</th>\n",
       "      <td>2025-02-15</td>\n",
       "    </tr>\n",
       "    <tr>\n",
       "      <th>144033</th>\n",
       "      <td>2025-10-22</td>\n",
       "    </tr>\n",
       "    <tr>\n",
       "      <th>144034</th>\n",
       "      <td>2025-02-28</td>\n",
       "    </tr>\n",
       "    <tr>\n",
       "      <th>144035</th>\n",
       "      <td>2025-09-06</td>\n",
       "    </tr>\n",
       "    <tr>\n",
       "      <th>144036</th>\n",
       "      <td>2025-09-22</td>\n",
       "    </tr>\n",
       "  </tbody>\n",
       "</table>\n",
       "<p>143537 rows × 1 columns</p>\n",
       "</div>"
      ],
      "text/plain": [
       "            fecha\n",
       "500    2025-09-04\n",
       "501    2025-09-15\n",
       "502    2025-06-09\n",
       "503    2025-12-06\n",
       "504    2025-06-01\n",
       "...           ...\n",
       "144032 2025-02-15\n",
       "144033 2025-10-22\n",
       "144034 2025-02-28\n",
       "144035 2025-09-06\n",
       "144036 2025-09-22\n",
       "\n",
       "[143537 rows x 1 columns]"
      ]
     },
     "execution_count": 31,
     "metadata": {},
     "output_type": "execute_result"
    }
   ],
   "source": [
    "df_fecha.loc[500:, [\"fecha\"]]"
   ]
  },
  {
   "cell_type": "code",
   "execution_count": 32,
   "id": "f49848ec",
   "metadata": {},
   "outputs": [
    {
     "data": {
      "text/html": [
       "<div>\n",
       "<style scoped>\n",
       "    .dataframe tbody tr th:only-of-type {\n",
       "        vertical-align: middle;\n",
       "    }\n",
       "\n",
       "    .dataframe tbody tr th {\n",
       "        vertical-align: top;\n",
       "    }\n",
       "\n",
       "    .dataframe thead th {\n",
       "        text-align: right;\n",
       "    }\n",
       "</style>\n",
       "<table border=\"1\" class=\"dataframe\">\n",
       "  <thead>\n",
       "    <tr style=\"text-align: right;\">\n",
       "      <th></th>\n",
       "      <th>index</th>\n",
       "      <th>fecha</th>\n",
       "      <th>fecha2</th>\n",
       "    </tr>\n",
       "  </thead>\n",
       "  <tbody>\n",
       "    <tr>\n",
       "      <th>0</th>\n",
       "      <td>0</td>\n",
       "      <td>2025-04-13</td>\n",
       "      <td>2025-04-13</td>\n",
       "    </tr>\n",
       "    <tr>\n",
       "      <th>1</th>\n",
       "      <td>1</td>\n",
       "      <td>2025-12-15</td>\n",
       "      <td>2025-12-15</td>\n",
       "    </tr>\n",
       "    <tr>\n",
       "      <th>2</th>\n",
       "      <td>2</td>\n",
       "      <td>2025-09-28</td>\n",
       "      <td>2025-09-28</td>\n",
       "    </tr>\n",
       "    <tr>\n",
       "      <th>3</th>\n",
       "      <td>3</td>\n",
       "      <td>2025-04-17</td>\n",
       "      <td>2025-04-17</td>\n",
       "    </tr>\n",
       "    <tr>\n",
       "      <th>4</th>\n",
       "      <td>4</td>\n",
       "      <td>2025-03-13</td>\n",
       "      <td>2025-03-13</td>\n",
       "    </tr>\n",
       "    <tr>\n",
       "      <th>...</th>\n",
       "      <td>...</td>\n",
       "      <td>...</td>\n",
       "      <td>...</td>\n",
       "    </tr>\n",
       "    <tr>\n",
       "      <th>144032</th>\n",
       "      <td>144032</td>\n",
       "      <td>2025-02-15</td>\n",
       "      <td>2025-02-15</td>\n",
       "    </tr>\n",
       "    <tr>\n",
       "      <th>144033</th>\n",
       "      <td>144033</td>\n",
       "      <td>2025-10-22</td>\n",
       "      <td>2025-10-22</td>\n",
       "    </tr>\n",
       "    <tr>\n",
       "      <th>144034</th>\n",
       "      <td>144034</td>\n",
       "      <td>2025-02-28</td>\n",
       "      <td>2025-02-28</td>\n",
       "    </tr>\n",
       "    <tr>\n",
       "      <th>144035</th>\n",
       "      <td>144035</td>\n",
       "      <td>2025-09-06</td>\n",
       "      <td>2025-09-06</td>\n",
       "    </tr>\n",
       "    <tr>\n",
       "      <th>144036</th>\n",
       "      <td>144036</td>\n",
       "      <td>2025-09-22</td>\n",
       "      <td>2025-09-22</td>\n",
       "    </tr>\n",
       "  </tbody>\n",
       "</table>\n",
       "<p>144037 rows × 3 columns</p>\n",
       "</div>"
      ],
      "text/plain": [
       "         index      fecha     fecha2\n",
       "0            0 2025-04-13 2025-04-13\n",
       "1            1 2025-12-15 2025-12-15\n",
       "2            2 2025-09-28 2025-09-28\n",
       "3            3 2025-04-17 2025-04-17\n",
       "4            4 2025-03-13 2025-03-13\n",
       "...        ...        ...        ...\n",
       "144032  144032 2025-02-15 2025-02-15\n",
       "144033  144033 2025-10-22 2025-10-22\n",
       "144034  144034 2025-02-28 2025-02-28\n",
       "144035  144035 2025-09-06 2025-09-06\n",
       "144036  144036 2025-09-22 2025-09-22\n",
       "\n",
       "[144037 rows x 3 columns]"
      ]
     },
     "execution_count": 32,
     "metadata": {},
     "output_type": "execute_result"
    }
   ],
   "source": [
    "df_fecha.reset_index()"
   ]
  },
  {
   "cell_type": "code",
   "execution_count": 33,
   "id": "7fa375c4",
   "metadata": {},
   "outputs": [
    {
     "data": {
      "text/html": [
       "<div>\n",
       "<style scoped>\n",
       "    .dataframe tbody tr th:only-of-type {\n",
       "        vertical-align: middle;\n",
       "    }\n",
       "\n",
       "    .dataframe tbody tr th {\n",
       "        vertical-align: top;\n",
       "    }\n",
       "\n",
       "    .dataframe thead th {\n",
       "        text-align: right;\n",
       "    }\n",
       "</style>\n",
       "<table border=\"1\" class=\"dataframe\">\n",
       "  <thead>\n",
       "    <tr style=\"text-align: right;\">\n",
       "      <th></th>\n",
       "      <th>country</th>\n",
       "      <th>designation</th>\n",
       "    </tr>\n",
       "  </thead>\n",
       "  <tbody>\n",
       "    <tr>\n",
       "      <th>3</th>\n",
       "      <td>US</td>\n",
       "      <td>Reserve</td>\n",
       "    </tr>\n",
       "    <tr>\n",
       "      <th>4</th>\n",
       "      <td>France</td>\n",
       "      <td>La Brûlade</td>\n",
       "    </tr>\n",
       "  </tbody>\n",
       "</table>\n",
       "</div>"
      ],
      "text/plain": [
       "  country designation\n",
       "3      US     Reserve\n",
       "4  France  La Brûlade"
      ]
     },
     "execution_count": 33,
     "metadata": {},
     "output_type": "execute_result"
    }
   ],
   "source": [
    "df_csv.iloc[3:5, 0:2]"
   ]
  },
  {
   "cell_type": "markdown",
   "id": "5246d78e",
   "metadata": {},
   "source": [
    "### filtrado por condiciones"
   ]
  },
  {
   "cell_type": "code",
   "execution_count": 34,
   "id": "6b5b1ceb",
   "metadata": {},
   "outputs": [
    {
     "data": {
      "text/plain": [
       "Index(['country', 'designation', 'points', 'price', 'province', 'region_1',\n",
       "       'region_2', 'variety', 'winery', 'last_year_points', 'date_f'],\n",
       "      dtype='object')"
      ]
     },
     "execution_count": 34,
     "metadata": {},
     "output_type": "execute_result"
    }
   ],
   "source": [
    "df_csv.columns"
   ]
  },
  {
   "cell_type": "code",
   "execution_count": 35,
   "id": "870b078d",
   "metadata": {},
   "outputs": [
    {
     "data": {
      "text/html": [
       "<div>\n",
       "<style scoped>\n",
       "    .dataframe tbody tr th:only-of-type {\n",
       "        vertical-align: middle;\n",
       "    }\n",
       "\n",
       "    .dataframe tbody tr th {\n",
       "        vertical-align: top;\n",
       "    }\n",
       "\n",
       "    .dataframe thead th {\n",
       "        text-align: right;\n",
       "    }\n",
       "</style>\n",
       "<table border=\"1\" class=\"dataframe\">\n",
       "  <thead>\n",
       "    <tr style=\"text-align: right;\">\n",
       "      <th></th>\n",
       "      <th>country</th>\n",
       "      <th>designation</th>\n",
       "      <th>points</th>\n",
       "      <th>price</th>\n",
       "      <th>province</th>\n",
       "      <th>region_1</th>\n",
       "      <th>region_2</th>\n",
       "      <th>variety</th>\n",
       "      <th>winery</th>\n",
       "      <th>last_year_points</th>\n",
       "      <th>date_f</th>\n",
       "    </tr>\n",
       "  </thead>\n",
       "  <tbody>\n",
       "    <tr>\n",
       "      <th>75</th>\n",
       "      <td>US</td>\n",
       "      <td>Premier Cuvée</td>\n",
       "      <td>91.0</td>\n",
       "      <td>54.0</td>\n",
       "      <td>Oregon</td>\n",
       "      <td>Willamette Valley</td>\n",
       "      <td>Willamette Valley</td>\n",
       "      <td>Pinot Noir</td>\n",
       "      <td>Archery Summit</td>\n",
       "      <td>93</td>\n",
       "      <td>2025-10-31</td>\n",
       "    </tr>\n",
       "    <tr>\n",
       "      <th>273</th>\n",
       "      <td>US</td>\n",
       "      <td>Vintage Brut</td>\n",
       "      <td>92.0</td>\n",
       "      <td>48.0</td>\n",
       "      <td>California</td>\n",
       "      <td>Russian River Valley</td>\n",
       "      <td>Sonoma</td>\n",
       "      <td>Sparkling Blend</td>\n",
       "      <td>J Vineyards &amp; Winery</td>\n",
       "      <td>98</td>\n",
       "      <td>2025-10-31</td>\n",
       "    </tr>\n",
       "    <tr>\n",
       "      <th>301</th>\n",
       "      <td>Italy</td>\n",
       "      <td>Vigneto Monte Sant'Urbano</td>\n",
       "      <td>94.0</td>\n",
       "      <td>85.0</td>\n",
       "      <td>Veneto</td>\n",
       "      <td>Amarone della Valpolicella Classico</td>\n",
       "      <td>NaN</td>\n",
       "      <td>Red Blend</td>\n",
       "      <td>Speri</td>\n",
       "      <td>88</td>\n",
       "      <td>2025-10-31</td>\n",
       "    </tr>\n",
       "    <tr>\n",
       "      <th>323</th>\n",
       "      <td>US</td>\n",
       "      <td>Pellet Vineyard</td>\n",
       "      <td>94.0</td>\n",
       "      <td>95.0</td>\n",
       "      <td>California</td>\n",
       "      <td>Napa Valley</td>\n",
       "      <td>Napa</td>\n",
       "      <td>Cabernet Sauvignon</td>\n",
       "      <td>Pellet Estate</td>\n",
       "      <td>89</td>\n",
       "      <td>2025-10-31</td>\n",
       "    </tr>\n",
       "    <tr>\n",
       "      <th>2128</th>\n",
       "      <td>France</td>\n",
       "      <td>NaN</td>\n",
       "      <td>97.0</td>\n",
       "      <td>450.0</td>\n",
       "      <td>Bordeaux</td>\n",
       "      <td>Margaux</td>\n",
       "      <td>NaN</td>\n",
       "      <td>Bordeaux-style Red Blend</td>\n",
       "      <td>Château Margaux</td>\n",
       "      <td>92</td>\n",
       "      <td>2025-10-31</td>\n",
       "    </tr>\n",
       "  </tbody>\n",
       "</table>\n",
       "</div>"
      ],
      "text/plain": [
       "     country                designation  points  price    province  \\\n",
       "75        US              Premier Cuvée    91.0   54.0      Oregon   \n",
       "273       US               Vintage Brut    92.0   48.0  California   \n",
       "301    Italy  Vigneto Monte Sant'Urbano    94.0   85.0      Veneto   \n",
       "323       US            Pellet Vineyard    94.0   95.0  California   \n",
       "2128  France                        NaN    97.0  450.0    Bordeaux   \n",
       "\n",
       "                                 region_1           region_2  \\\n",
       "75                      Willamette Valley  Willamette Valley   \n",
       "273                  Russian River Valley             Sonoma   \n",
       "301   Amarone della Valpolicella Classico                NaN   \n",
       "323                           Napa Valley               Napa   \n",
       "2128                              Margaux                NaN   \n",
       "\n",
       "                       variety                winery  last_year_points  \\\n",
       "75                  Pinot Noir        Archery Summit                93   \n",
       "273            Sparkling Blend  J Vineyards & Winery                98   \n",
       "301                  Red Blend                 Speri                88   \n",
       "323         Cabernet Sauvignon         Pellet Estate                89   \n",
       "2128  Bordeaux-style Red Blend       Château Margaux                92   \n",
       "\n",
       "         date_f  \n",
       "75   2025-10-31  \n",
       "273  2025-10-31  \n",
       "301  2025-10-31  \n",
       "323  2025-10-31  \n",
       "2128 2025-10-31  "
      ]
     },
     "execution_count": 35,
     "metadata": {},
     "output_type": "execute_result"
    }
   ],
   "source": [
    "df_csv[(df_csv['date_f'] == \"2025-10-31 00:00:00\") & (df_csv['points'] > 90)].head(5)"
   ]
  },
  {
   "cell_type": "markdown",
   "id": "d8f217ed",
   "metadata": {},
   "source": [
    "### filtrado por multiplex condiciones"
   ]
  },
  {
   "cell_type": "code",
   "execution_count": 36,
   "id": "8c9943ce",
   "metadata": {},
   "outputs": [
    {
     "data": {
      "text/html": [
       "<div>\n",
       "<style scoped>\n",
       "    .dataframe tbody tr th:only-of-type {\n",
       "        vertical-align: middle;\n",
       "    }\n",
       "\n",
       "    .dataframe tbody tr th {\n",
       "        vertical-align: top;\n",
       "    }\n",
       "\n",
       "    .dataframe thead th {\n",
       "        text-align: right;\n",
       "    }\n",
       "</style>\n",
       "<table border=\"1\" class=\"dataframe\">\n",
       "  <thead>\n",
       "    <tr style=\"text-align: right;\">\n",
       "      <th></th>\n",
       "      <th>country</th>\n",
       "      <th>designation</th>\n",
       "      <th>points</th>\n",
       "      <th>price</th>\n",
       "      <th>province</th>\n",
       "      <th>region_1</th>\n",
       "      <th>region_2</th>\n",
       "      <th>variety</th>\n",
       "      <th>winery</th>\n",
       "      <th>last_year_points</th>\n",
       "      <th>date_f</th>\n",
       "    </tr>\n",
       "  </thead>\n",
       "  <tbody>\n",
       "    <tr>\n",
       "      <th>48</th>\n",
       "      <td>Italy</td>\n",
       "      <td>NaN</td>\n",
       "      <td>90.0</td>\n",
       "      <td>50.0</td>\n",
       "      <td>Tuscany</td>\n",
       "      <td>Brunello di Montalcino</td>\n",
       "      <td>NaN</td>\n",
       "      <td>Sangiovese</td>\n",
       "      <td>Brunelli Martoccia</td>\n",
       "      <td>98</td>\n",
       "      <td>2025-03-30</td>\n",
       "    </tr>\n",
       "    <tr>\n",
       "      <th>68</th>\n",
       "      <td>US</td>\n",
       "      <td>Schindler Vineyard</td>\n",
       "      <td>91.0</td>\n",
       "      <td>50.0</td>\n",
       "      <td>Oregon</td>\n",
       "      <td>Eola-Amity Hills</td>\n",
       "      <td>Willamette Valley</td>\n",
       "      <td>Pinot Noir</td>\n",
       "      <td>Panther Creek</td>\n",
       "      <td>94</td>\n",
       "      <td>2025-07-10</td>\n",
       "    </tr>\n",
       "    <tr>\n",
       "      <th>89</th>\n",
       "      <td>US</td>\n",
       "      <td>Magnificat</td>\n",
       "      <td>91.0</td>\n",
       "      <td>50.0</td>\n",
       "      <td>California</td>\n",
       "      <td>Napa Valley</td>\n",
       "      <td>Napa</td>\n",
       "      <td>Meritage</td>\n",
       "      <td>Franciscan</td>\n",
       "      <td>90</td>\n",
       "      <td>2025-07-07</td>\n",
       "    </tr>\n",
       "    <tr>\n",
       "      <th>90</th>\n",
       "      <td>US</td>\n",
       "      <td>NaN</td>\n",
       "      <td>86.0</td>\n",
       "      <td>10.0</td>\n",
       "      <td>California</td>\n",
       "      <td>California</td>\n",
       "      <td>California Other</td>\n",
       "      <td>Cabernet Sauvignon</td>\n",
       "      <td>Belle Ambiance</td>\n",
       "      <td>83</td>\n",
       "      <td>2025-02-10</td>\n",
       "    </tr>\n",
       "    <tr>\n",
       "      <th>94</th>\n",
       "      <td>Portugal</td>\n",
       "      <td>Muros de Vinha</td>\n",
       "      <td>86.0</td>\n",
       "      <td>10.0</td>\n",
       "      <td>Douro</td>\n",
       "      <td>NaN</td>\n",
       "      <td>NaN</td>\n",
       "      <td>Portuguese Red</td>\n",
       "      <td>Quinta do Portal</td>\n",
       "      <td>98</td>\n",
       "      <td>2025-03-06</td>\n",
       "    </tr>\n",
       "  </tbody>\n",
       "</table>\n",
       "</div>"
      ],
      "text/plain": [
       "     country         designation  points  price    province  \\\n",
       "48     Italy                 NaN    90.0   50.0     Tuscany   \n",
       "68        US  Schindler Vineyard    91.0   50.0      Oregon   \n",
       "89        US          Magnificat    91.0   50.0  California   \n",
       "90        US                 NaN    86.0   10.0  California   \n",
       "94  Portugal      Muros de Vinha    86.0   10.0       Douro   \n",
       "\n",
       "                  region_1           region_2             variety  \\\n",
       "48  Brunello di Montalcino                NaN          Sangiovese   \n",
       "68        Eola-Amity Hills  Willamette Valley          Pinot Noir   \n",
       "89             Napa Valley               Napa            Meritage   \n",
       "90              California   California Other  Cabernet Sauvignon   \n",
       "94                     NaN                NaN      Portuguese Red   \n",
       "\n",
       "                winery  last_year_points     date_f  \n",
       "48  Brunelli Martoccia                98 2025-03-30  \n",
       "68       Panther Creek                94 2025-07-10  \n",
       "89          Franciscan                90 2025-07-07  \n",
       "90      Belle Ambiance                83 2025-02-10  \n",
       "94    Quinta do Portal                98 2025-03-06  "
      ]
     },
     "execution_count": 36,
     "metadata": {},
     "output_type": "execute_result"
    }
   ],
   "source": [
    "df_csv[(df_csv['price'].isin([10,50])) & (df_csv['points'].between(75,95))].head(5)"
   ]
  },
  {
   "cell_type": "markdown",
   "id": "3ead7be7",
   "metadata": {},
   "source": [
    "### isin"
   ]
  },
  {
   "cell_type": "code",
   "execution_count": 37,
   "id": "428ae52d",
   "metadata": {},
   "outputs": [
    {
     "data": {
      "text/plain": [
       "0    False\n",
       "1    False\n",
       "Name: price, dtype: bool"
      ]
     },
     "execution_count": 37,
     "metadata": {},
     "output_type": "execute_result"
    }
   ],
   "source": [
    "df_csv['price'].isin([10,50]).head(2)"
   ]
  },
  {
   "cell_type": "markdown",
   "id": "4a344b24",
   "metadata": {},
   "source": [
    "### BETWEEN "
   ]
  },
  {
   "cell_type": "code",
   "execution_count": 38,
   "id": "07d26d14",
   "metadata": {},
   "outputs": [
    {
     "data": {
      "text/plain": [
       "0    False\n",
       "1    False\n",
       "2    False\n",
       "3    False\n",
       "4     True\n",
       "Name: points, dtype: bool"
      ]
     },
     "execution_count": 38,
     "metadata": {},
     "output_type": "execute_result"
    }
   ],
   "source": [
    "(df_csv['points'].between(75,95)).head(5) # QUERY"
   ]
  },
  {
   "cell_type": "markdown",
   "id": "b57eaac3",
   "metadata": {},
   "source": [
    "### QUERY"
   ]
  },
  {
   "cell_type": "code",
   "execution_count": 39,
   "id": "60781599",
   "metadata": {},
   "outputs": [
    {
     "data": {
      "text/plain": [
       "0    False\n",
       "1    False\n",
       "2    False\n",
       "3    False\n",
       "4     True\n",
       "Name: points, dtype: bool"
      ]
     },
     "execution_count": 39,
     "metadata": {},
     "output_type": "execute_result"
    }
   ],
   "source": [
    "((df_csv['points'] >= 75) & (df_csv['points'] <= 95)).head(5)"
   ]
  },
  {
   "cell_type": "markdown",
   "id": "19fac5ea",
   "metadata": {},
   "source": [
    "### top-k por grupo"
   ]
  },
  {
   "cell_type": "code",
   "execution_count": 40,
   "id": "9af4639b",
   "metadata": {},
   "outputs": [
    {
     "data": {
      "text/html": [
       "<div>\n",
       "<style scoped>\n",
       "    .dataframe tbody tr th:only-of-type {\n",
       "        vertical-align: middle;\n",
       "    }\n",
       "\n",
       "    .dataframe tbody tr th {\n",
       "        vertical-align: top;\n",
       "    }\n",
       "\n",
       "    .dataframe thead th {\n",
       "        text-align: right;\n",
       "    }\n",
       "</style>\n",
       "<table border=\"1\" class=\"dataframe\">\n",
       "  <thead>\n",
       "    <tr style=\"text-align: right;\">\n",
       "      <th></th>\n",
       "      <th>country</th>\n",
       "      <th>designation</th>\n",
       "      <th>points</th>\n",
       "      <th>price</th>\n",
       "      <th>province</th>\n",
       "      <th>region_1</th>\n",
       "      <th>region_2</th>\n",
       "      <th>variety</th>\n",
       "      <th>winery</th>\n",
       "      <th>last_year_points</th>\n",
       "      <th>date_f</th>\n",
       "    </tr>\n",
       "  </thead>\n",
       "  <tbody>\n",
       "    <tr>\n",
       "      <th>113579</th>\n",
       "      <td>US</td>\n",
       "      <td>NaN</td>\n",
       "      <td>84.0</td>\n",
       "      <td>4.0</td>\n",
       "      <td>California</td>\n",
       "      <td>California</td>\n",
       "      <td>California Other</td>\n",
       "      <td>Cabernet Sauvignon</td>\n",
       "      <td>Bandit</td>\n",
       "      <td>90</td>\n",
       "      <td>2025-11-09</td>\n",
       "    </tr>\n",
       "    <tr>\n",
       "      <th>114469</th>\n",
       "      <td>US</td>\n",
       "      <td>NaN</td>\n",
       "      <td>84.0</td>\n",
       "      <td>4.0</td>\n",
       "      <td>California</td>\n",
       "      <td>California</td>\n",
       "      <td>California Other</td>\n",
       "      <td>Chardonnay</td>\n",
       "      <td>Bandit</td>\n",
       "      <td>80</td>\n",
       "      <td>2025-01-02</td>\n",
       "    </tr>\n",
       "    <tr>\n",
       "      <th>114479</th>\n",
       "      <td>US</td>\n",
       "      <td>NaN</td>\n",
       "      <td>84.0</td>\n",
       "      <td>4.0</td>\n",
       "      <td>California</td>\n",
       "      <td>California</td>\n",
       "      <td>California Other</td>\n",
       "      <td>Merlot</td>\n",
       "      <td>Bandit</td>\n",
       "      <td>82</td>\n",
       "      <td>2025-01-06</td>\n",
       "    </tr>\n",
       "    <tr>\n",
       "      <th>47305</th>\n",
       "      <td>US</td>\n",
       "      <td>NaN</td>\n",
       "      <td>86.0</td>\n",
       "      <td>4.0</td>\n",
       "      <td>California</td>\n",
       "      <td>California</td>\n",
       "      <td>California Other</td>\n",
       "      <td>Merlot</td>\n",
       "      <td>Bandit</td>\n",
       "      <td>97</td>\n",
       "      <td>2025-08-13</td>\n",
       "    </tr>\n",
       "    <tr>\n",
       "      <th>77245</th>\n",
       "      <td>US</td>\n",
       "      <td>NaN</td>\n",
       "      <td>86.0</td>\n",
       "      <td>4.0</td>\n",
       "      <td>California</td>\n",
       "      <td>California</td>\n",
       "      <td>California Other</td>\n",
       "      <td>Merlot</td>\n",
       "      <td>Bandit</td>\n",
       "      <td>88</td>\n",
       "      <td>2025-04-23</td>\n",
       "    </tr>\n",
       "    <tr>\n",
       "      <th>...</th>\n",
       "      <td>...</td>\n",
       "      <td>...</td>\n",
       "      <td>...</td>\n",
       "      <td>...</td>\n",
       "      <td>...</td>\n",
       "      <td>...</td>\n",
       "      <td>...</td>\n",
       "      <td>...</td>\n",
       "      <td>...</td>\n",
       "      <td>...</td>\n",
       "      <td>...</td>\n",
       "    </tr>\n",
       "    <tr>\n",
       "      <th>114188</th>\n",
       "      <td>Egypt</td>\n",
       "      <td>Caspar Blanc de Noirs</td>\n",
       "      <td>84.0</td>\n",
       "      <td>NaN</td>\n",
       "      <td>Egypt</td>\n",
       "      <td>NaN</td>\n",
       "      <td>NaN</td>\n",
       "      <td>Grenache</td>\n",
       "      <td>Sahara Vineyards</td>\n",
       "      <td>91</td>\n",
       "      <td>2025-08-02</td>\n",
       "    </tr>\n",
       "    <tr>\n",
       "      <th>114213</th>\n",
       "      <td>Egypt</td>\n",
       "      <td>Caspar</td>\n",
       "      <td>84.0</td>\n",
       "      <td>NaN</td>\n",
       "      <td>Egypt</td>\n",
       "      <td>NaN</td>\n",
       "      <td>NaN</td>\n",
       "      <td>Chenin Blanc</td>\n",
       "      <td>Sahara Vineyards</td>\n",
       "      <td>98</td>\n",
       "      <td>2025-12-17</td>\n",
       "    </tr>\n",
       "    <tr>\n",
       "      <th>115051</th>\n",
       "      <td>Egypt</td>\n",
       "      <td>NaN</td>\n",
       "      <td>83.0</td>\n",
       "      <td>NaN</td>\n",
       "      <td>Egypt</td>\n",
       "      <td>NaN</td>\n",
       "      <td>NaN</td>\n",
       "      <td>Viognier</td>\n",
       "      <td>Sahara Vineyards</td>\n",
       "      <td>97</td>\n",
       "      <td>2025-05-24</td>\n",
       "    </tr>\n",
       "    <tr>\n",
       "      <th>132359</th>\n",
       "      <td>Tunisia</td>\n",
       "      <td>Selian Mystère</td>\n",
       "      <td>87.0</td>\n",
       "      <td>NaN</td>\n",
       "      <td>Tunisia</td>\n",
       "      <td>NaN</td>\n",
       "      <td>NaN</td>\n",
       "      <td>Rosé</td>\n",
       "      <td>Domaine Neferis</td>\n",
       "      <td>81</td>\n",
       "      <td>2025-11-30</td>\n",
       "    </tr>\n",
       "    <tr>\n",
       "      <th>134014</th>\n",
       "      <td>Tunisia</td>\n",
       "      <td>Selian</td>\n",
       "      <td>85.0</td>\n",
       "      <td>NaN</td>\n",
       "      <td>Tunisia</td>\n",
       "      <td>NaN</td>\n",
       "      <td>NaN</td>\n",
       "      <td>White Blend</td>\n",
       "      <td>Domaine Neferis</td>\n",
       "      <td>94</td>\n",
       "      <td>2025-07-11</td>\n",
       "    </tr>\n",
       "  </tbody>\n",
       "</table>\n",
       "<p>385 rows × 11 columns</p>\n",
       "</div>"
      ],
      "text/plain": [
       "        country            designation  points  price    province    region_1  \\\n",
       "113579       US                    NaN    84.0    4.0  California  California   \n",
       "114469       US                    NaN    84.0    4.0  California  California   \n",
       "114479       US                    NaN    84.0    4.0  California  California   \n",
       "47305        US                    NaN    86.0    4.0  California  California   \n",
       "77245        US                    NaN    86.0    4.0  California  California   \n",
       "...         ...                    ...     ...    ...         ...         ...   \n",
       "114188    Egypt  Caspar Blanc de Noirs    84.0    NaN       Egypt         NaN   \n",
       "114213    Egypt                 Caspar    84.0    NaN       Egypt         NaN   \n",
       "115051    Egypt                    NaN    83.0    NaN       Egypt         NaN   \n",
       "132359  Tunisia         Selian Mystère    87.0    NaN     Tunisia         NaN   \n",
       "134014  Tunisia                 Selian    85.0    NaN     Tunisia         NaN   \n",
       "\n",
       "                region_2             variety            winery  \\\n",
       "113579  California Other  Cabernet Sauvignon            Bandit   \n",
       "114469  California Other          Chardonnay            Bandit   \n",
       "114479  California Other              Merlot            Bandit   \n",
       "47305   California Other              Merlot            Bandit   \n",
       "77245   California Other              Merlot            Bandit   \n",
       "...                  ...                 ...               ...   \n",
       "114188               NaN            Grenache  Sahara Vineyards   \n",
       "114213               NaN        Chenin Blanc  Sahara Vineyards   \n",
       "115051               NaN            Viognier  Sahara Vineyards   \n",
       "132359               NaN                Rosé   Domaine Neferis   \n",
       "134014               NaN         White Blend   Domaine Neferis   \n",
       "\n",
       "        last_year_points     date_f  \n",
       "113579                90 2025-11-09  \n",
       "114469                80 2025-01-02  \n",
       "114479                82 2025-01-06  \n",
       "47305                 97 2025-08-13  \n",
       "77245                 88 2025-04-23  \n",
       "...                  ...        ...  \n",
       "114188                91 2025-08-02  \n",
       "114213                98 2025-12-17  \n",
       "115051                97 2025-05-24  \n",
       "132359                81 2025-11-30  \n",
       "134014                94 2025-07-11  \n",
       "\n",
       "[385 rows x 11 columns]"
      ]
     },
     "execution_count": 40,
     "metadata": {},
     "output_type": "execute_result"
    }
   ],
   "source": [
    "df_csv.sort_values('price', ascending= True).groupby('country').head(10)"
   ]
  },
  {
   "cell_type": "markdown",
   "id": "2d632eda",
   "metadata": {},
   "source": [
    "### muestra aleatoria"
   ]
  },
  {
   "cell_type": "code",
   "execution_count": 41,
   "id": "8b9c3c3e",
   "metadata": {},
   "outputs": [
    {
     "data": {
      "text/html": [
       "<div>\n",
       "<style scoped>\n",
       "    .dataframe tbody tr th:only-of-type {\n",
       "        vertical-align: middle;\n",
       "    }\n",
       "\n",
       "    .dataframe tbody tr th {\n",
       "        vertical-align: top;\n",
       "    }\n",
       "\n",
       "    .dataframe thead th {\n",
       "        text-align: right;\n",
       "    }\n",
       "</style>\n",
       "<table border=\"1\" class=\"dataframe\">\n",
       "  <thead>\n",
       "    <tr style=\"text-align: right;\">\n",
       "      <th></th>\n",
       "      <th>country</th>\n",
       "      <th>designation</th>\n",
       "      <th>points</th>\n",
       "      <th>price</th>\n",
       "      <th>province</th>\n",
       "      <th>region_1</th>\n",
       "      <th>region_2</th>\n",
       "      <th>variety</th>\n",
       "      <th>winery</th>\n",
       "      <th>last_year_points</th>\n",
       "      <th>date_f</th>\n",
       "    </tr>\n",
       "  </thead>\n",
       "  <tbody>\n",
       "    <tr>\n",
       "      <th>48804</th>\n",
       "      <td>US</td>\n",
       "      <td>NaN</td>\n",
       "      <td>83.0</td>\n",
       "      <td>9.0</td>\n",
       "      <td>California</td>\n",
       "      <td>California</td>\n",
       "      <td>California Other</td>\n",
       "      <td>Chardonnay</td>\n",
       "      <td>Happy Camper</td>\n",
       "      <td>100</td>\n",
       "      <td>2025-02-28</td>\n",
       "    </tr>\n",
       "    <tr>\n",
       "      <th>81868</th>\n",
       "      <td>Italy</td>\n",
       "      <td>Vigna Rionda Riserva</td>\n",
       "      <td>93.0</td>\n",
       "      <td>134.0</td>\n",
       "      <td>Piedmont</td>\n",
       "      <td>Barolo</td>\n",
       "      <td>NaN</td>\n",
       "      <td>Nebbiolo</td>\n",
       "      <td>Massolino</td>\n",
       "      <td>86</td>\n",
       "      <td>2025-12-03</td>\n",
       "    </tr>\n",
       "    <tr>\n",
       "      <th>15626</th>\n",
       "      <td>US</td>\n",
       "      <td>Dusi Vineyard/Martini Vineyard</td>\n",
       "      <td>85.0</td>\n",
       "      <td>20.0</td>\n",
       "      <td>California</td>\n",
       "      <td>Paso Robles</td>\n",
       "      <td>Central Coast</td>\n",
       "      <td>Zinfandel</td>\n",
       "      <td>Stephen Ross</td>\n",
       "      <td>85</td>\n",
       "      <td>2025-05-09</td>\n",
       "    </tr>\n",
       "    <tr>\n",
       "      <th>74237</th>\n",
       "      <td>France</td>\n",
       "      <td>Perrières Premier Cru</td>\n",
       "      <td>93.0</td>\n",
       "      <td>80.0</td>\n",
       "      <td>Burgundy</td>\n",
       "      <td>Meursault</td>\n",
       "      <td>NaN</td>\n",
       "      <td>Chardonnay</td>\n",
       "      <td>Domaine Vincent Girardin</td>\n",
       "      <td>94</td>\n",
       "      <td>2025-02-09</td>\n",
       "    </tr>\n",
       "    <tr>\n",
       "      <th>28762</th>\n",
       "      <td>Italy</td>\n",
       "      <td>Muntacc</td>\n",
       "      <td>90.0</td>\n",
       "      <td>24.0</td>\n",
       "      <td>Piedmont</td>\n",
       "      <td>Coste della Sesia</td>\n",
       "      <td>NaN</td>\n",
       "      <td>Red Blend</td>\n",
       "      <td>La Prevostura</td>\n",
       "      <td>100</td>\n",
       "      <td>2025-06-11</td>\n",
       "    </tr>\n",
       "    <tr>\n",
       "      <th>...</th>\n",
       "      <td>...</td>\n",
       "      <td>...</td>\n",
       "      <td>...</td>\n",
       "      <td>...</td>\n",
       "      <td>...</td>\n",
       "      <td>...</td>\n",
       "      <td>...</td>\n",
       "      <td>...</td>\n",
       "      <td>...</td>\n",
       "      <td>...</td>\n",
       "      <td>...</td>\n",
       "    </tr>\n",
       "    <tr>\n",
       "      <th>84945</th>\n",
       "      <td>US</td>\n",
       "      <td>Spinning Red</td>\n",
       "      <td>89.0</td>\n",
       "      <td>20.0</td>\n",
       "      <td>California</td>\n",
       "      <td>Napa Valley</td>\n",
       "      <td>Napa</td>\n",
       "      <td>Red Blend</td>\n",
       "      <td>Curveball</td>\n",
       "      <td>94</td>\n",
       "      <td>2025-05-29</td>\n",
       "    </tr>\n",
       "    <tr>\n",
       "      <th>91485</th>\n",
       "      <td>Italy</td>\n",
       "      <td>Scaccomatto</td>\n",
       "      <td>92.0</td>\n",
       "      <td>66.0</td>\n",
       "      <td>Central Italy</td>\n",
       "      <td>Albana di Romagna</td>\n",
       "      <td>NaN</td>\n",
       "      <td>Albana</td>\n",
       "      <td>Fattoria Zerbina</td>\n",
       "      <td>87</td>\n",
       "      <td>2025-12-12</td>\n",
       "    </tr>\n",
       "    <tr>\n",
       "      <th>19537</th>\n",
       "      <td>Portugal</td>\n",
       "      <td>Terra de Lobos Branco</td>\n",
       "      <td>87.0</td>\n",
       "      <td>8.0</td>\n",
       "      <td>Tejo</td>\n",
       "      <td>NaN</td>\n",
       "      <td>NaN</td>\n",
       "      <td>Portuguese White</td>\n",
       "      <td>Quinta do Casal Branco</td>\n",
       "      <td>88</td>\n",
       "      <td>2025-02-15</td>\n",
       "    </tr>\n",
       "    <tr>\n",
       "      <th>81730</th>\n",
       "      <td>Chile</td>\n",
       "      <td>NaN</td>\n",
       "      <td>83.0</td>\n",
       "      <td>10.0</td>\n",
       "      <td>Central Valley</td>\n",
       "      <td>NaN</td>\n",
       "      <td>NaN</td>\n",
       "      <td>Cabernet Sauvignon</td>\n",
       "      <td>Paso Grande</td>\n",
       "      <td>83</td>\n",
       "      <td>2025-11-13</td>\n",
       "    </tr>\n",
       "    <tr>\n",
       "      <th>117807</th>\n",
       "      <td>US</td>\n",
       "      <td>Hawk Hill Vineyard</td>\n",
       "      <td>95.0</td>\n",
       "      <td>50.0</td>\n",
       "      <td>California</td>\n",
       "      <td>Russian River Valley</td>\n",
       "      <td>Sonoma</td>\n",
       "      <td>Chardonnay</td>\n",
       "      <td>Williams Selyem</td>\n",
       "      <td>88</td>\n",
       "      <td>2025-02-27</td>\n",
       "    </tr>\n",
       "  </tbody>\n",
       "</table>\n",
       "<p>2881 rows × 11 columns</p>\n",
       "</div>"
      ],
      "text/plain": [
       "         country                     designation  points  price  \\\n",
       "48804         US                             NaN    83.0    9.0   \n",
       "81868      Italy            Vigna Rionda Riserva    93.0  134.0   \n",
       "15626         US  Dusi Vineyard/Martini Vineyard    85.0   20.0   \n",
       "74237     France           Perrières Premier Cru    93.0   80.0   \n",
       "28762      Italy                         Muntacc    90.0   24.0   \n",
       "...          ...                             ...     ...    ...   \n",
       "84945         US                    Spinning Red    89.0   20.0   \n",
       "91485      Italy                     Scaccomatto    92.0   66.0   \n",
       "19537   Portugal           Terra de Lobos Branco    87.0    8.0   \n",
       "81730      Chile                             NaN    83.0   10.0   \n",
       "117807        US              Hawk Hill Vineyard    95.0   50.0   \n",
       "\n",
       "              province              region_1          region_2  \\\n",
       "48804       California            California  California Other   \n",
       "81868         Piedmont                Barolo               NaN   \n",
       "15626       California           Paso Robles     Central Coast   \n",
       "74237         Burgundy             Meursault               NaN   \n",
       "28762         Piedmont     Coste della Sesia               NaN   \n",
       "...                ...                   ...               ...   \n",
       "84945       California           Napa Valley              Napa   \n",
       "91485    Central Italy     Albana di Romagna               NaN   \n",
       "19537             Tejo                   NaN               NaN   \n",
       "81730   Central Valley                   NaN               NaN   \n",
       "117807      California  Russian River Valley            Sonoma   \n",
       "\n",
       "                   variety                    winery  last_year_points  \\\n",
       "48804           Chardonnay              Happy Camper               100   \n",
       "81868             Nebbiolo                 Massolino                86   \n",
       "15626            Zinfandel              Stephen Ross                85   \n",
       "74237           Chardonnay  Domaine Vincent Girardin                94   \n",
       "28762            Red Blend             La Prevostura               100   \n",
       "...                    ...                       ...               ...   \n",
       "84945            Red Blend                 Curveball                94   \n",
       "91485               Albana          Fattoria Zerbina                87   \n",
       "19537     Portuguese White    Quinta do Casal Branco                88   \n",
       "81730   Cabernet Sauvignon               Paso Grande                83   \n",
       "117807          Chardonnay           Williams Selyem                88   \n",
       "\n",
       "           date_f  \n",
       "48804  2025-02-28  \n",
       "81868  2025-12-03  \n",
       "15626  2025-05-09  \n",
       "74237  2025-02-09  \n",
       "28762  2025-06-11  \n",
       "...           ...  \n",
       "84945  2025-05-29  \n",
       "91485  2025-12-12  \n",
       "19537  2025-02-15  \n",
       "81730  2025-11-13  \n",
       "117807 2025-02-27  \n",
       "\n",
       "[2881 rows x 11 columns]"
      ]
     },
     "execution_count": 41,
     "metadata": {},
     "output_type": "execute_result"
    }
   ],
   "source": [
    "df_csv.sample(frac=0.02, random_state=42)"
   ]
  },
  {
   "cell_type": "markdown",
   "id": "42047b9a",
   "metadata": {},
   "source": [
    "### Manejo de duplicados"
   ]
  },
  {
   "cell_type": "code",
   "execution_count": 42,
   "id": "1d7b3941",
   "metadata": {},
   "outputs": [
    {
     "data": {
      "text/plain": [
       "(144037,)"
      ]
     },
     "execution_count": 42,
     "metadata": {},
     "output_type": "execute_result"
    }
   ],
   "source": [
    "df_duplicados = df_csv.duplicated(subset=[\"province\",\"region_1\"])\n",
    "df_duplicados.shape"
   ]
  },
  {
   "cell_type": "code",
   "execution_count": 43,
   "id": "3ab758f2",
   "metadata": {},
   "outputs": [
    {
     "data": {
      "text/plain": [
       "(1623, 11)"
      ]
     },
     "execution_count": 43,
     "metadata": {},
     "output_type": "execute_result"
    }
   ],
   "source": [
    "noduplicados = df_csv[~df_duplicados].copy()\n",
    "noduplicados.shape"
   ]
  },
  {
   "cell_type": "markdown",
   "id": "cd3a2f31",
   "metadata": {},
   "source": [
    "### Reindices"
   ]
  },
  {
   "cell_type": "code",
   "execution_count": 44,
   "id": "c47e129b",
   "metadata": {},
   "outputs": [
    {
     "name": "stdout",
     "output_type": "stream",
     "text": [
      "range(0, 10)\n"
     ]
    }
   ],
   "source": [
    "rango =range(10)\n",
    "print(rango)"
   ]
  }
 ],
 "metadata": {
  "kernelspec": {
   "display_name": "Python 3",
   "language": "python",
   "name": "python3"
  },
  "language_info": {
   "codemirror_mode": {
    "name": "ipython",
    "version": 3
   },
   "file_extension": ".py",
   "mimetype": "text/x-python",
   "name": "python",
   "nbconvert_exporter": "python",
   "pygments_lexer": "ipython3",
   "version": "3.12.1"
  }
 },
 "nbformat": 4,
 "nbformat_minor": 5
}
