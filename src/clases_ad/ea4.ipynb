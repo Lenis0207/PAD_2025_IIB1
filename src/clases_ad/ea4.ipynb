{
 "cells": [
  {
   "cell_type": "markdown",
   "id": "dff4d1a5",
   "metadata": {},
   "source": [
    "# EA4 PROYECTO INTEGRADOR"
   ]
  },
  {
   "cell_type": "code",
   "execution_count": null,
   "id": "f21db805",
   "metadata": {
    "vscode": {
     "languageId": "plaintext"
    }
   },
   "outputs": [],
   "source": [
    "import pandas as pd\n",
    "\n",
    "df = pd.read_csv(\"src/static/csv/crocodile_dataset.csv\")\n",
    "\n",
    "conjunto_nombre comun = set(df[\"nombre comun\"])\n",
    "conjunto_nombre cientifico = set(df[\"nombre cientifico\"])\n",
    "\n",
    "print(\"Nombres comunes:\", conjunto_comun)\n",
    "print(\"Nombres científicos:\", conjunto_cientifico)\n",
    "\n",
    "# Operaciones con conjuntos\n",
    "union = conjunto_comun.union(conjunto_cientifico)\n",
    "interseccion = conjunto_comun.intersection(conjunto_cientifico)\n",
    "solo_comunes = conjunto_comun - conjunto_cientifico\n",
    "solo_cientificos = conjunto_cientifico - conjunto_comun\n",
    "\n",
    "print(\"\\nUnión:\", union)\n",
    "print(\"Intersección:\", interseccion)\n",
    "print(\"Solo nombres comunes:\", solo_comunes)\n",
    "print(\"Solo nombres científicos:\", solo_cientificos)\n"
   ]
  }
 ],
 "metadata": {
  "language_info": {
   "name": "python"
  }
 },
 "nbformat": 4,
 "nbformat_minor": 5
}
