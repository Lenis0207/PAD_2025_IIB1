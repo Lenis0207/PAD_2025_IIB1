{
 "cells": [
  {
   "cell_type": "markdown",
   "id": "dff4d1a5",
   "metadata": {},
   "source": [
    "# EA4 PROYECTO INTEGRADOR"
   ]
  },
  {
   "cell_type": "code",
   "execution_count": 24,
   "id": "5ecdbf17",
   "metadata": {},
   "outputs": [
    {
     "name": "stdout",
     "output_type": "stream",
     "text": [
      "Index(['Observation ID', 'Common Name', 'Scientific Name', 'Family', 'Genus',\n",
      "       'Observed Length (m)', 'Observed Weight (kg)', 'Age Class', 'Sex',\n",
      "       'Date of Observation', 'Country/Region', 'Habitat Type',\n",
      "       'Conservation Status', 'Observer Name', 'Notes'],\n",
      "      dtype='object')\n"
     ]
    }
   ],
   "source": [
    "import pandas as pd\n",
    "\n",
    "df = pd.read_csv(\"/workspaces/PAD_2025_IIB1/src/static/csv/crocodile_dataset.csv\")\n",
    "\n",
    "print(df.columns)"
   ]
  },
  {
   "cell_type": "code",
   "execution_count": 23,
   "id": "16dde837",
   "metadata": {},
   "outputs": [
    {
     "name": "stdout",
     "output_type": "stream",
     "text": [
      "Nombres comunes: {'West African Dwarf Crocodile', 'Saltwater Crocodile', 'Philippine Crocodile', \"Morelet's Crocodile\", 'West African Crocodile', 'New Guinea Crocodile', 'West African Slender-snouted Crocodile', 'Congo Dwarf Crocodile', 'Orinoco Crocodile', 'Mugger Crocodile (Marsh Crocodile)', \"Freshwater Crocodile (Johnstone's)\", 'Central African Slender-snouted Crocodile', 'American Crocodile', 'Borneo Crocodile (disputed)', 'Siamese Crocodile', \"Hall's New Guinea Crocodile\", 'Nile Crocodile', 'Cuban Crocodile'}\n",
      "Nombres científicos: {'Crocodylus palustris', 'Crocodylus intermedius', 'Osteolaemus tetraspis', 'Osteolaemus osborni', 'Crocodylus niloticus', 'Crocodylus moreletii', 'Crocodylus raninus', 'Crocodylus rhombifer', 'Crocodylus suchus', 'Crocodylus siamensis', 'Crocodylus mindorensis', 'Mecistops leptorhynchus', 'Crocodylus halli', 'Mecistops cataphractus', 'Crocodylus novaeguineae', 'Crocodylus johnstoni', 'Crocodylus porosus', 'Crocodylus acutus'}\n",
      "Tipos de hábitat: {'Forest Rivers', 'Lagoons', 'Slow Streams', 'Freshwater Wetlands', 'Oases', 'Large Rivers', 'Reservoirs', 'Estuaries', 'Tidal Rivers', 'Freshwater Rivers', 'Freshwater Marshes', 'Forest Swamps', 'Coastal Lagoons', 'Coastal Wetlands', 'Flooded Savannas', 'Oxbow Lakes', 'Rivers', 'Gorges', 'Small Streams', 'Ponds', 'Mangroves', 'Swamps', 'Lakes', 'Slow Rivers', 'Shaded Forest Rivers', 'Brackish Rivers', 'Marshes', 'Estuarine Systems', 'Billabongs'}\n",
      "\n",
      "Unión: {'Forest Rivers', 'Crocodylus intermedius', 'Lagoons', 'Crocodylus raninus', \"Freshwater Crocodile (Johnstone's)\", 'Slow Streams', 'Freshwater Wetlands', 'Oases', 'Large Rivers', 'Reservoirs', 'Mecistops cataphractus', 'Estuaries', 'Crocodylus novaeguineae', 'Nile Crocodile', 'Tidal Rivers', 'Freshwater Rivers', 'Freshwater Marshes', 'Forest Swamps', 'Crocodylus palustris', 'Osteolaemus osborni', 'American Crocodile', 'Crocodylus suchus', 'Crocodylus siamensis', 'Mecistops leptorhynchus', 'Coastal Lagoons', 'Coastal Wetlands', 'Crocodylus johnstoni', 'West African Slender-snouted Crocodile', 'Cuban Crocodile', 'Flooded Savannas', 'Saltwater Crocodile', 'Philippine Crocodile', \"Morelet's Crocodile\", 'Congo Dwarf Crocodile', 'Osteolaemus tetraspis', 'Crocodylus niloticus', 'Crocodylus moreletii', 'Mugger Crocodile (Marsh Crocodile)', 'Crocodylus rhombifer', 'Oxbow Lakes', 'Borneo Crocodile (disputed)', 'Rivers', 'Crocodylus mindorensis', 'Gorges', 'Small Streams', 'Siamese Crocodile', 'Ponds', 'Mangroves', 'Swamps', 'West African Dwarf Crocodile', 'Lakes', 'Slow Rivers', 'West African Crocodile', 'New Guinea Crocodile', 'Shaded Forest Rivers', 'Brackish Rivers', 'Marshes', 'Orinoco Crocodile', 'Estuarine Systems', 'Central African Slender-snouted Crocodile', 'Crocodylus halli', 'Billabongs', \"Hall's New Guinea Crocodile\", 'Crocodylus porosus', 'Crocodylus acutus'}\n",
      "Intersección: set()\n",
      "Solo nombres comunes: {'West African Dwarf Crocodile', 'Saltwater Crocodile', 'Philippine Crocodile', 'West African Crocodile', \"Morelet's Crocodile\", 'New Guinea Crocodile', 'West African Slender-snouted Crocodile', 'Congo Dwarf Crocodile', 'Orinoco Crocodile', 'Mugger Crocodile (Marsh Crocodile)', \"Freshwater Crocodile (Johnstone's)\", 'Central African Slender-snouted Crocodile', 'American Crocodile', 'Borneo Crocodile (disputed)', 'Siamese Crocodile', \"Hall's New Guinea Crocodile\", 'Nile Crocodile', 'Cuban Crocodile'}\n",
      "Solo nombres científicos: {'Crocodylus palustris', 'Crocodylus intermedius', 'Osteolaemus tetraspis', 'Osteolaemus osborni', 'Crocodylus niloticus', 'Crocodylus moreletii', 'Crocodylus raninus', 'Crocodylus rhombifer', 'Crocodylus suchus', 'Crocodylus siamensis', 'Crocodylus mindorensis', 'Crocodylus halli', 'Mecistops leptorhynchus', 'Mecistops cataphractus', 'Crocodylus novaeguineae', 'Crocodylus johnstoni', 'Crocodylus porosus', 'Crocodylus acutus'}\n",
      "Solo tipos de hábitat: {'Forest Rivers', 'Lagoons', 'Slow Streams', 'Freshwater Wetlands', 'Oases', 'Large Rivers', 'Tidal Rivers', 'Estuaries', 'Reservoirs', 'Freshwater Rivers', 'Freshwater Marshes', 'Forest Swamps', 'Coastal Lagoons', 'Coastal Wetlands', 'Flooded Savannas', 'Oxbow Lakes', 'Rivers', 'Gorges', 'Small Streams', 'Ponds', 'Mangroves', 'Swamps', 'Lakes', 'Slow Rivers', 'Shaded Forest Rivers', 'Brackish Rivers', 'Marshes', 'Estuarine Systems', 'Billabongs'}\n"
     ]
    }
   ],
   "source": [
    "conjunto_Common_Name = set(df[\"Common Name\"])\n",
    "conjunto_Scientific_Name = set(df[\"Scientific Name\"])\n",
    "conjunto_Habitat_Type = set(df[\"Habitat Type\"])\n",
    "\n",
    "print(\"Nombres comunes:\", conjunto_Common_Name)\n",
    "print(\"Nombres científicos:\", conjunto_Scientific_Name)\n",
    "print(\"Tipos de hábitat:\", conjunto_Habitat_Type)\n",
    "\n",
    "# Operaciones con conjuntos\n",
    "union = conjunto_Common_Name.union(conjunto_Scientific_Name).union(conjunto_Habitat_Type)\n",
    "interseccion = conjunto_Common_Name.intersection(conjunto_Scientific_Name).intersection(conjunto_Habitat_Type)\n",
    "solo_comunes = conjunto_Common_Name - conjunto_Scientific_Name - conjunto_Habitat_Type\n",
    "solo_cientificos = conjunto_Scientific_Name - conjunto_Common_Name - conjunto_Habitat_Type\n",
    "solo_habitat = conjunto_Habitat_Type - conjunto_Common_Name - conjunto_Scientific_Name\n",
    "\n",
    "\n",
    "print(\"\\nUnión:\", union)\n",
    "print(\"Intersección:\", interseccion)\n",
    "print(\"Solo nombres comunes:\", solo_comunes)\n",
    "print(\"Solo nombres científicos:\", solo_cientificos)\n",
    "print(\"Solo tipos de hábitat:\", solo_habitat)   "
   ]
  },
  {
   "cell_type": "code",
   "execution_count": 25,
   "id": "97078db7",
   "metadata": {},
   "outputs": [],
   "source": [
    "import pandas as pd\n",
    "from sklearn.model_selection import train_test_split\n",
    "\n",
    "df = pd.read_csv(\"/workspaces/PAD_2025_IIB1/src/static/csv/crocodile_dataset.csv\")\n",
    "\n",
    "train, test = train_test_split(df, test_size=0.3, random_state=42)\n",
    "\n",
    "train.to_csv(\"train.csv\", index=False)\n",
    "test.to_csv(\"test.csv\", index=False)\n"
   ]
  },
  {
   "cell_type": "code",
   "execution_count": 27,
   "id": "fe4a7668",
   "metadata": {},
   "outputs": [
    {
     "name": "stdout",
     "output_type": "stream",
     "text": [
      "Unión: {'Cameroon', 'Indonesia (Papua)', 'Chad', 'Laos', 'Australia', 'Tanzania', 'USA (Florida)', 'Belize', 'Subadult', 'Indonesia (Borneo)', 'Mali', 'Adult', 'Venezuela', 'Central African Republic', 'Cuba', \"Côte d'Ivoire\", 'Congo Basin Countries', 'Iran (historic)', 'South Africa', 'Guatemala', 'Ghana', 'Pakistan', 'Hatchling', 'Gabon', 'India', 'Juvenile', 'Guinea', 'Philippines', 'Senegal', 'Papua New Guinea', 'Mexico', 'Cambodia', 'Vietnam', 'Mauritania', 'Nepal', 'Colombia', 'Kenya', 'Sierra Leone', 'Costa Rica', 'Sudan', 'Sri Lanka', 'Congo (DRC)', 'Uganda', 'Egypt', 'Malaysia (Borneo)', 'Thailand', 'Indonesia', 'Nigeria', 'Niger', 'Liberia', 'Malaysia'}\n",
      "Intersección: set()\n",
      "Diferencia: {'Juvenile', 'Subadult', 'Adult', 'Hatchling'}\n"
     ]
    }
   ],
   "source": [
    "import pandas as pd\n",
    "\n",
    "df = pd.read_csv(\"/workspaces/PAD_2025_IIB1/src/static/csv/crocodile_dataset.csv\")\n",
    "\n",
    "# Conjunto de valores únicos de una columna\n",
    "conjunto1 = set(df[\"Age Class\"])\n",
    "conjunto2 = set(df[\"Country/Region\"])\n",
    "\n",
    "# Operaciones de conjuntos\n",
    "union = conjunto1.union(conjunto2)\n",
    "interseccion = conjunto1.intersection(conjunto2)\n",
    "diferencia = conjunto1.difference(conjunto2)\n",
    "\n",
    "print(\"Unión:\", union)\n",
    "print(\"Intersección:\", interseccion)\n",
    "print(\"Diferencia:\", diferencia)\n"
   ]
  },
  {
   "cell_type": "code",
   "execution_count": 31,
   "id": "57cbd14d",
   "metadata": {},
   "outputs": [
    {
     "name": "stdout",
     "output_type": "stream",
     "text": [
      "Conjunto A (Juvenile): Empty DataFrame\n",
      "Columns: [Observation ID, Common Name, Scientific Name, Family, Genus, Observed Length (m), Observed Weight (kg), Age Class, Sex, Date of Observation, Country/Region, Habitat Type, Conservation Status, Observer Name, Notes]\n",
      "Index: []\n"
     ]
    }
   ],
   "source": [
    "# Filtrar por una condición\n",
    "conjunto_a = df[df[\"Common Name\"] == \"Juvenile\"]\n",
    "conjunto_b = df[df[\"Common Name\"] == \"Subadult\"]\n",
    "conjunto_c = df[df[\"Common Name\"] == \"Adult\"]   \n",
    "conjunto_d = df[df[\"Common Name\"] == \"Hatchling\"]   \n",
    "\n",
    "# Guardar\n",
    "conjunto_a.to_csv(\"conjunto_a.csv\", index=False)\n",
    "conjunto_b.to_csv(\"conjunto_b.csv\", index=False)\n",
    "conjunto_c.to_csv(\"conjunto_c.csv\", index=False)\n",
    "conjunto_d.to_csv(\"conjunto_d.csv\", index=False)   \n",
    "\n",
    "print(\"Conjunto A (Juvenile):\", conjunto_a)"
   ]
  }
 ],
 "metadata": {
  "kernelspec": {
   "display_name": "Python 3",
   "language": "python",
   "name": "python3"
  },
  "language_info": {
   "codemirror_mode": {
    "name": "ipython",
    "version": 3
   },
   "file_extension": ".py",
   "mimetype": "text/x-python",
   "name": "python",
   "nbconvert_exporter": "python",
   "pygments_lexer": "ipython3",
   "version": "3.12.1"
  }
 },
 "nbformat": 4,
 "nbformat_minor": 5
}
